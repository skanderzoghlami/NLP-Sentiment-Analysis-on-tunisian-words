{
  "nbformat": 4,
  "nbformat_minor": 0,
  "metadata": {
    "colab": {
      "name": "Sentiment analysis",
      "provenance": [],
      "collapsed_sections": [],
      "authorship_tag": "ABX9TyP+nE7GEgJ6pbb1laCzoPhx",
      "include_colab_link": true
    },
    "kernelspec": {
      "display_name": "Python 3",
      "name": "python3"
    }
  },
  "cells": [
    {
      "cell_type": "markdown",
      "metadata": {
        "id": "view-in-github",
        "colab_type": "text"
      },
      "source": [
        "<a href=\"https://colab.research.google.com/github/skanderzoghlami/NLP-Sentiment-Analysis-on-tunisian-words-/blob/main/Sentiment_analysis.ipynb\" target=\"_parent\"><img src=\"https://colab.research.google.com/assets/colab-badge.svg\" alt=\"Open In Colab\"/></a>"
      ]
    },
    {
      "cell_type": "code",
      "metadata": {
        "colab": {
          "resources": {
            "http://localhost:8080/nbextensions/google.colab/files.js": {
              "data": "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",
              "ok": true,
              "headers": [
                [
                  "content-type",
                  "application/javascript"
                ]
              ],
              "status": 200,
              "status_text": "OK"
            }
          },
          "base_uri": "https://localhost:8080/",
          "height": 264
        },
        "id": "Qv0pH8O5mP28",
        "outputId": "621c1b91-6f4f-43ae-c89b-a6cd6e29515d"
      },
      "source": [
        "import pandas as pd\n",
        "import io\n",
        "from google.colab import files\n",
        "uploader = files.upload()\n",
        "df = pd.read_csv(\"Train.csv\")\n",
        "df.head()"
      ],
      "execution_count": null,
      "outputs": [
        {
          "output_type": "display_data",
          "data": {
            "text/html": [
              "\n",
              "     <input type=\"file\" id=\"files-c631bc1e-1ee3-4602-8905-21e6cc38dd07\" name=\"files[]\" multiple disabled\n",
              "        style=\"border:none\" />\n",
              "     <output id=\"result-c631bc1e-1ee3-4602-8905-21e6cc38dd07\">\n",
              "      Upload widget is only available when the cell has been executed in the\n",
              "      current browser session. Please rerun this cell to enable.\n",
              "      </output>\n",
              "      <script src=\"/nbextensions/google.colab/files.js\"></script> "
            ],
            "text/plain": [
              "<IPython.core.display.HTML object>"
            ]
          },
          "metadata": {
            "tags": []
          }
        },
        {
          "output_type": "stream",
          "text": [
            "Saving Train.csv to Train.csv\n"
          ],
          "name": "stdout"
        },
        {
          "output_type": "execute_result",
          "data": {
            "text/html": [
              "<div>\n",
              "<style scoped>\n",
              "    .dataframe tbody tr th:only-of-type {\n",
              "        vertical-align: middle;\n",
              "    }\n",
              "\n",
              "    .dataframe tbody tr th {\n",
              "        vertical-align: top;\n",
              "    }\n",
              "\n",
              "    .dataframe thead th {\n",
              "        text-align: right;\n",
              "    }\n",
              "</style>\n",
              "<table border=\"1\" class=\"dataframe\">\n",
              "  <thead>\n",
              "    <tr style=\"text-align: right;\">\n",
              "      <th></th>\n",
              "      <th>ID</th>\n",
              "      <th>text</th>\n",
              "      <th>label</th>\n",
              "    </tr>\n",
              "  </thead>\n",
              "  <tbody>\n",
              "    <tr>\n",
              "      <th>0</th>\n",
              "      <td>13P0QT0</td>\n",
              "      <td>3sbaaaaaaaaaaaaaaaaaaaa lek ou le seim riahi o...</td>\n",
              "      <td>-1</td>\n",
              "    </tr>\n",
              "    <tr>\n",
              "      <th>1</th>\n",
              "      <td>SKCLXCJ</td>\n",
              "      <td>cha3eb fey9elkoum menghir ta7ayoul ou kressi</td>\n",
              "      <td>-1</td>\n",
              "    </tr>\n",
              "    <tr>\n",
              "      <th>2</th>\n",
              "      <td>V1TVXIJ</td>\n",
              "      <td>bereau degage nathef ya slim walahi ya7chiw fi...</td>\n",
              "      <td>-1</td>\n",
              "    </tr>\n",
              "    <tr>\n",
              "      <th>3</th>\n",
              "      <td>U0TTYY8</td>\n",
              "      <td>ak slouma</td>\n",
              "      <td>1</td>\n",
              "    </tr>\n",
              "    <tr>\n",
              "      <th>4</th>\n",
              "      <td>68DX797</td>\n",
              "      <td>entom titmanou lina a7na 3iid moubarik a7na ch...</td>\n",
              "      <td>-1</td>\n",
              "    </tr>\n",
              "  </tbody>\n",
              "</table>\n",
              "</div>"
            ],
            "text/plain": [
              "        ID                                               text  label\n",
              "0  13P0QT0  3sbaaaaaaaaaaaaaaaaaaaa lek ou le seim riahi o...     -1\n",
              "1  SKCLXCJ       cha3eb fey9elkoum menghir ta7ayoul ou kressi     -1\n",
              "2  V1TVXIJ  bereau degage nathef ya slim walahi ya7chiw fi...     -1\n",
              "3  U0TTYY8                                          ak slouma      1\n",
              "4  68DX797  entom titmanou lina a7na 3iid moubarik a7na ch...     -1"
            ]
          },
          "metadata": {
            "tags": []
          },
          "execution_count": 1
        }
      ]
    },
    {
      "cell_type": "code",
      "metadata": {
        "id": "aIC54emNh103"
      },
      "source": [
        ""
      ],
      "execution_count": null,
      "outputs": []
    },
    {
      "cell_type": "code",
      "metadata": {
        "colab": {
          "base_uri": "https://localhost:8080/"
        },
        "id": "l5gSJSG0tX5s",
        "outputId": "0d8f9b45-ba18-4b12-d72d-6e55905a8ce8"
      },
      "source": [
        "!pip install gensim --upgrade\n",
        "!pip install keras --upgrade"
      ],
      "execution_count": null,
      "outputs": [
        {
          "output_type": "stream",
          "text": [
            "Collecting gensim\n",
            "\u001b[?25l  Downloading https://files.pythonhosted.org/packages/5c/4e/afe2315e08a38967f8a3036bbe7e38b428e9b7a90e823a83d0d49df1adf5/gensim-3.8.3-cp37-cp37m-manylinux1_x86_64.whl (24.2MB)\n",
            "\u001b[K     |████████████████████████████████| 24.2MB 167kB/s \n",
            "\u001b[?25hRequirement already satisfied, skipping upgrade: smart-open>=1.8.1 in /usr/local/lib/python3.7/dist-packages (from gensim) (4.2.0)\n",
            "Requirement already satisfied, skipping upgrade: numpy>=1.11.3 in /usr/local/lib/python3.7/dist-packages (from gensim) (1.19.5)\n",
            "Requirement already satisfied, skipping upgrade: six>=1.5.0 in /usr/local/lib/python3.7/dist-packages (from gensim) (1.15.0)\n",
            "Requirement already satisfied, skipping upgrade: scipy>=0.18.1 in /usr/local/lib/python3.7/dist-packages (from gensim) (1.4.1)\n",
            "Installing collected packages: gensim\n",
            "  Found existing installation: gensim 3.6.0\n",
            "    Uninstalling gensim-3.6.0:\n",
            "      Successfully uninstalled gensim-3.6.0\n",
            "Successfully installed gensim-3.8.3\n",
            "Requirement already up-to-date: keras in /usr/local/lib/python3.7/dist-packages (2.4.3)\n",
            "Requirement already satisfied, skipping upgrade: numpy>=1.9.1 in /usr/local/lib/python3.7/dist-packages (from keras) (1.19.5)\n",
            "Requirement already satisfied, skipping upgrade: h5py in /usr/local/lib/python3.7/dist-packages (from keras) (2.10.0)\n",
            "Requirement already satisfied, skipping upgrade: pyyaml in /usr/local/lib/python3.7/dist-packages (from keras) (3.13)\n",
            "Requirement already satisfied, skipping upgrade: scipy>=0.14 in /usr/local/lib/python3.7/dist-packages (from keras) (1.4.1)\n",
            "Requirement already satisfied, skipping upgrade: six in /usr/local/lib/python3.7/dist-packages (from h5py->keras) (1.15.0)\n"
          ],
          "name": "stdout"
        }
      ]
    },
    {
      "cell_type": "code",
      "metadata": {
        "id": "V3Ho4Teftcwf"
      },
      "source": [
        "# Matplot\n",
        "import matplotlib.pyplot as plt\n",
        "%matplotlib inline\n",
        "# Scikit-learn\n",
        "from sklearn.model_selection import train_test_split\n",
        "from sklearn.preprocessing import LabelEncoder\n",
        "from sklearn.metrics import confusion_matrix, classification_report, accuracy_score\n",
        "from sklearn.manifold import TSNE\n",
        "from sklearn.feature_extraction.text import TfidfVectorizer\n",
        "# Keras\n",
        "from keras.preprocessing.text import Tokenizer\n",
        "from keras.preprocessing.sequence import pad_sequences\n",
        "from keras.models import Sequential\n",
        "from keras.layers import Activation, Dense, Dropout, Embedding, Flatten, Conv1D, MaxPooling1D, LSTM\n",
        "from keras import utils\n",
        "from keras.callbacks import ReduceLROnPlateau, EarlyStopping\n",
        "# nltk\n",
        "import nltk\n",
        "from nltk.corpus import stopwords\n",
        "from  nltk.stem import SnowballStemmer\n",
        "\n",
        "# Word2vec\n",
        "import gensim\n",
        "\n",
        "# Utility\n",
        "import re\n",
        "import numpy as np\n",
        "import os\n",
        "from collections import Counter\n",
        "import logging\n",
        "import time\n",
        "import pickle\n",
        "import itertools\n",
        "\n",
        "# Set log\n",
        "logging.basicConfig(format='%(asctime)s : %(levelname)s : %(message)s', level=logging.INFO)"
      ],
      "execution_count": null,
      "outputs": []
    },
    {
      "cell_type": "code",
      "metadata": {
        "colab": {
          "base_uri": "https://localhost:8080/"
        },
        "id": "5PhOXG_Wt7io",
        "outputId": "c7777306-2a87-453e-98ab-a06ca71498b6"
      },
      "source": [
        "# Stop words delimit the ending of a phrase\n",
        "nltk.download('stopwords')"
      ],
      "execution_count": null,
      "outputs": [
        {
          "output_type": "stream",
          "text": [
            "[nltk_data] Downloading package stopwords to /root/nltk_data...\n",
            "[nltk_data]   Unzipping corpora/stopwords.zip.\n"
          ],
          "name": "stdout"
        },
        {
          "output_type": "execute_result",
          "data": {
            "text/plain": [
              "True"
            ]
          },
          "metadata": {
            "tags": []
          },
          "execution_count": 4
        }
      ]
    },
    {
      "cell_type": "code",
      "metadata": {
        "id": "x2iGxlXnuQzt"
      },
      "source": [
        "# DATASET\n",
        "DATASET_COLUMNS = [ \"ID\",\"text\",\"label\"]\n",
        "DATASET_ENCODING = \"ISO-8859-1\"\n",
        "TRAIN_SIZE = 0.8\n",
        "\n",
        "# TEXT CLENAING\n",
        "TEXT_CLEANING_RE = \"@\\S+|https?:\\S+|http?:\\S|[^A-Za-z0-9]+\"\n",
        "\n",
        "# WORD2VEC \n",
        "W2V_SIZE = 300\n",
        "W2V_WINDOW = 7\n",
        "W2V_EPOCH = 32\n",
        "W2V_MIN_COUNT = 10\n",
        "\n",
        "# KERAS\n",
        "SEQUENCE_LENGTH = 300\n",
        "EPOCHS = 8\n",
        "BATCH_SIZE = 1024\n",
        "\n",
        "# SENTIMENT\n",
        "POSITIVE = \"1\"\n",
        "NEGATIVE = \"-1\"\n",
        "NEUTRAL = \"0\"\n",
        "\n",
        "SENTIMENT_THRESHOLDS = (0.4, 0.7)\n",
        "\n",
        "# EXPORT\n",
        "KERAS_MODEL = \"model.h5\"\n",
        "WORD2VEC_MODEL = \"model.w2v\"\n",
        "TOKENIZER_MODEL = \"tokenizer.pkl\"\n",
        "ENCODER_MODEL = \"encoder.pkl\""
      ],
      "execution_count": null,
      "outputs": []
    },
    {
      "cell_type": "code",
      "metadata": {
        "colab": {
          "base_uri": "https://localhost:8080/",
          "height": 225
        },
        "id": "ZXDRzs4puxQm",
        "outputId": "16de962c-6345-4ef5-ca8b-16b27a8a979f"
      },
      "source": [
        "print(\"Dataset size:\", len(df))\n",
        "df.head(5)"
      ],
      "execution_count": null,
      "outputs": [
        {
          "output_type": "stream",
          "text": [
            "Dataset size: 70000\n"
          ],
          "name": "stdout"
        },
        {
          "output_type": "execute_result",
          "data": {
            "text/html": [
              "<div>\n",
              "<style scoped>\n",
              "    .dataframe tbody tr th:only-of-type {\n",
              "        vertical-align: middle;\n",
              "    }\n",
              "\n",
              "    .dataframe tbody tr th {\n",
              "        vertical-align: top;\n",
              "    }\n",
              "\n",
              "    .dataframe thead th {\n",
              "        text-align: right;\n",
              "    }\n",
              "</style>\n",
              "<table border=\"1\" class=\"dataframe\">\n",
              "  <thead>\n",
              "    <tr style=\"text-align: right;\">\n",
              "      <th></th>\n",
              "      <th>ID</th>\n",
              "      <th>text</th>\n",
              "      <th>label</th>\n",
              "    </tr>\n",
              "  </thead>\n",
              "  <tbody>\n",
              "    <tr>\n",
              "      <th>0</th>\n",
              "      <td>13P0QT0</td>\n",
              "      <td>3sbaaaaaaaaaaaaaaaaaaaa lek ou le seim riahi o...</td>\n",
              "      <td>-1</td>\n",
              "    </tr>\n",
              "    <tr>\n",
              "      <th>1</th>\n",
              "      <td>SKCLXCJ</td>\n",
              "      <td>cha3eb fey9elkoum menghir ta7ayoul ou kressi</td>\n",
              "      <td>-1</td>\n",
              "    </tr>\n",
              "    <tr>\n",
              "      <th>2</th>\n",
              "      <td>V1TVXIJ</td>\n",
              "      <td>bereau degage nathef ya slim walahi ya7chiw fi...</td>\n",
              "      <td>-1</td>\n",
              "    </tr>\n",
              "    <tr>\n",
              "      <th>3</th>\n",
              "      <td>U0TTYY8</td>\n",
              "      <td>ak slouma</td>\n",
              "      <td>1</td>\n",
              "    </tr>\n",
              "    <tr>\n",
              "      <th>4</th>\n",
              "      <td>68DX797</td>\n",
              "      <td>entom titmanou lina a7na 3iid moubarik a7na ch...</td>\n",
              "      <td>-1</td>\n",
              "    </tr>\n",
              "  </tbody>\n",
              "</table>\n",
              "</div>"
            ],
            "text/plain": [
              "        ID                                               text  label\n",
              "0  13P0QT0  3sbaaaaaaaaaaaaaaaaaaaa lek ou le seim riahi o...     -1\n",
              "1  SKCLXCJ       cha3eb fey9elkoum menghir ta7ayoul ou kressi     -1\n",
              "2  V1TVXIJ  bereau degage nathef ya slim walahi ya7chiw fi...     -1\n",
              "3  U0TTYY8                                          ak slouma      1\n",
              "4  68DX797  entom titmanou lina a7na 3iid moubarik a7na ch...     -1"
            ]
          },
          "metadata": {
            "tags": []
          },
          "execution_count": 6
        }
      ]
    },
    {
      "cell_type": "code",
      "metadata": {
        "id": "eDh1B8-qu2A_"
      },
      "source": [
        "target_cnt = Counter(df.label)"
      ],
      "execution_count": null,
      "outputs": []
    },
    {
      "cell_type": "code",
      "metadata": {
        "colab": {
          "base_uri": "https://localhost:8080/",
          "height": 514
        },
        "id": "QEVaYYXhvnMI",
        "outputId": "b4dd0b1d-f356-435b-bedb-d54639b2a119"
      },
      "source": [
        "plt.figure(figsize=(16,8))\n",
        "plt.bar(target_cnt.keys(), target_cnt.values())\n",
        "plt.title(\"Dataset labels distribuition\")"
      ],
      "execution_count": null,
      "outputs": [
        {
          "output_type": "execute_result",
          "data": {
            "text/plain": [
              "Text(0.5, 1.0, 'Dataset labels distribuition')"
            ]
          },
          "metadata": {
            "tags": []
          },
          "execution_count": 8
        },
        {
          "output_type": "display_data",
          "data": {
            "image/png": "[encoded data removed]",
            "text/plain": [
              "<Figure size 1152x576 with 1 Axes>"
            ]
          },
          "metadata": {
            "tags": [],
            "needs_background": "light"
          }
        }
      ]
    },
    {
      "cell_type": "code",
      "metadata": {
        "colab": {
          "base_uri": "https://localhost:8080/"
        },
        "id": "3nBQelFavsPl",
        "outputId": "272279e4-fac7-4cf9-caa7-767d4bc452a7"
      },
      "source": [
        "df.info()"
      ],
      "execution_count": null,
      "outputs": [
        {
          "output_type": "stream",
          "text": [
            "<class 'pandas.core.frame.DataFrame'>\n",
            "RangeIndex: 70000 entries, 0 to 69999\n",
            "Data columns (total 3 columns):\n",
            " #   Column  Non-Null Count  Dtype \n",
            "---  ------  --------------  ----- \n",
            " 0   ID      70000 non-null  object\n",
            " 1   text    70000 non-null  object\n",
            " 2   label   70000 non-null  int64 \n",
            "dtypes: int64(1), object(2)\n",
            "memory usage: 1.6+ MB\n"
          ],
          "name": "stdout"
        }
      ]
    },
    {
      "cell_type": "code",
      "metadata": {
        "colab": {
          "base_uri": "https://localhost:8080/"
        },
        "id": "HokO3EDdxKYx",
        "outputId": "d6aeffc5-b3c2-457c-adf6-469973c463ad"
      },
      "source": [
        "df.label.value_counts()"
      ],
      "execution_count": null,
      "outputs": [
        {
          "output_type": "execute_result",
          "data": {
            "text/plain": [
              "1     38239\n",
              "-1    29295\n",
              "0      2466\n",
              "Name: label, dtype: int64"
            ]
          },
          "metadata": {
            "tags": []
          },
          "execution_count": 73
        }
      ]
    },
    {
      "cell_type": "code",
      "metadata": {
        "id": "4nMC3vOvxXja"
      },
      "source": [
        "decode_map = {-1: \"-1\", 0: \"1\", 1: \"1\"}\n",
        "def decode_sentiment(label):\n",
        "    return decode_map[int(label)]\n",
        "df.label = df.label.apply(lambda x: decode_sentiment(x))"
      ],
      "execution_count": null,
      "outputs": []
    },
    {
      "cell_type": "code",
      "metadata": {
        "colab": {
          "base_uri": "https://localhost:8080/"
        },
        "id": "xOCGNeElxyfx",
        "outputId": "d914d402-5930-43cc-af17-898a33a1a880"
      },
      "source": [
        "df.label.value_counts()"
      ],
      "execution_count": null,
      "outputs": [
        {
          "output_type": "execute_result",
          "data": {
            "text/plain": [
              "1     40705\n",
              "-1    29295\n",
              "Name: label, dtype: int64"
            ]
          },
          "metadata": {
            "tags": []
          },
          "execution_count": 76
        }
      ]
    },
    {
      "cell_type": "code",
      "metadata": {
        "colab": {
          "base_uri": "https://localhost:8080/",
          "height": 571
        },
        "id": "guXSrRS4x6js",
        "outputId": "88e93ade-95bf-4107-987a-ea07ee0df7c0"
      },
      "source": [
        "\n",
        "\n",
        "target_cnt = Counter(df.label)\n",
        "\n",
        "plt.figure(figsize=(16,8))\n",
        "plt.bar(target_cnt.keys(), target_cnt.values())\n",
        "plt.title(\"Dataset labels distribuition\")\n",
        "\n"
      ],
      "execution_count": null,
      "outputs": [
        {
          "output_type": "stream",
          "text": [
            "2021-03-03 13:31:05,295 : INFO : Using categorical units to plot a list of strings that are all parsable as floats or dates. If these strings should be plotted as numbers, cast to the appropriate data type before plotting.\n",
            "2021-03-03 13:31:05,299 : INFO : Using categorical units to plot a list of strings that are all parsable as floats or dates. If these strings should be plotted as numbers, cast to the appropriate data type before plotting.\n"
          ],
          "name": "stderr"
        },
        {
          "output_type": "execute_result",
          "data": {
            "text/plain": [
              "Text(0.5, 1.0, 'Dataset labels distribuition')"
            ]
          },
          "metadata": {
            "tags": []
          },
          "execution_count": 77
        },
        {
          "output_type": "display_data",
          "data": {
            "image/png": "[encoded data removed]",
            "text/plain": [
              "<Figure size 1152x576 with 1 Axes>"
            ]
          },
          "metadata": {
            "tags": [],
            "needs_background": "light"
          }
        }
      ]
    },
    {
      "cell_type": "code",
      "metadata": {
        "id": "E4A6zMLJyDQU"
      },
      "source": [
        "#stop_words = stopwords.words(\"french\")\n",
        "stemmer = SnowballStemmer(\"french\")\n",
        "stop_words= ['kol','ou','w','wa','mela','kima','ana','eni','ena','enti','enta','entouma','el','kont','bech','entom','ezouz','lkol','3lech','3leh','lweh','lwech','barcha','taw','men','mara','eli','m3a','5ater','howa','heya','houma','a7na','ahna','na7na','fi','e5er','o5ra','o5rin','7ata','hata','m3a','fi','ye5i','kol','win']\n",
        "sw= stopwords.words(\"french\")\n",
        "sw2 = stopwords.words(\"english\")\n",
        "stop_words = stop_words + sw + sw2\n"
      ],
      "execution_count": null,
      "outputs": []
    },
    {
      "cell_type": "code",
      "metadata": {
        "id": "mq60faXSyKS1"
      },
      "source": [
        "def preprocess(text, stem=False):\n",
        "    # Remove link,user and special characters\n",
        "    text = re.sub(TEXT_CLEANING_RE, ' ', str(text).lower()).strip()\n",
        "    tokens = []\n",
        "    for token in text.split():\n",
        "        if token not in stop_words:\n",
        "            if stem:\n",
        "                tokens.append(stemmer.stem(token))\n",
        "            else:\n",
        "                tokens.append(token)\n",
        "    return \" \".join(tokens)"
      ],
      "execution_count": null,
      "outputs": []
    },
    {
      "cell_type": "code",
      "metadata": {
        "colab": {
          "base_uri": "https://localhost:8080/"
        },
        "id": "LFRZf0-7yLdq",
        "outputId": "d60484b6-f515-4884-af34-a0b11960998a"
      },
      "source": [
        "%%time\n",
        "df.text = df.text.apply(lambda x: preprocess(x))"
      ],
      "execution_count": null,
      "outputs": [
        {
          "output_type": "stream",
          "text": [
            "CPU times: user 7.3 s, sys: 47.5 ms, total: 7.35 s\n",
            "Wall time: 8.09 s\n"
          ],
          "name": "stdout"
        }
      ]
    },
    {
      "cell_type": "code",
      "metadata": {
        "colab": {
          "base_uri": "https://localhost:8080/"
        },
        "id": "LRSLodyYzhij",
        "outputId": "5671ddb1-3b0e-46d8-bf8a-e67e232625c0"
      },
      "source": [
        "df.text"
      ],
      "execution_count": null,
      "outputs": [
        {
          "output_type": "execute_result",
          "data": {
            "text/plain": [
              "0        3sbaaaaaaaaaaaaaaaaaaaa lek seim riahi 3sbaaaa...\n",
              "1                cha3eb fey9elkoum menghir ta7ayoul kressi\n",
              "2        bereau degage nathef ya slim walahi ya7chiw fi...\n",
              "3                                                ak slouma\n",
              "4        titmanou lina 3iid moubarik cha3b lmanyik lf9i...\n",
              "                               ...                        \n",
              "69995    pff bayna beli kbira f wejhakk yakhiii rouhi r...\n",
              "69996    aman lmara jeya zidou t3am9ou fel a7deeth akth...\n",
              "69997                                winha nakhtabha hhhhh\n",
              "69998                                         fachel houwa\n",
              "69999       nchla lyouma nesm3ou a5beer bahiya 3la jem3iya\n",
              "Name: text, Length: 70000, dtype: object"
            ]
          },
          "metadata": {
            "tags": []
          },
          "execution_count": 86
        }
      ]
    },
    {
      "cell_type": "code",
      "metadata": {
        "colab": {
          "base_uri": "https://localhost:8080/"
        },
        "id": "pp3wfyq6zkMd",
        "outputId": "33b17b60-3b4c-48be-df52-b88a5108e9f8"
      },
      "source": [
        "df_train, df_test = train_test_split(df, test_size=0.2, random_state=42)\n",
        "print(\"TRAIN size:\", len(df_train))\n",
        "print(\"TEST size:\", len(df_test))"
      ],
      "execution_count": null,
      "outputs": [
        {
          "output_type": "stream",
          "text": [
            "TRAIN size: 56000\n",
            "TEST size: 14000\n"
          ],
          "name": "stdout"
        }
      ]
    },
    {
      "cell_type": "code",
      "metadata": {
        "colab": {
          "base_uri": "https://localhost:8080/"
        },
        "id": "hT4i4Imxzr9W",
        "outputId": "ca53706b-f59f-4775-d42e-b70dd8d66371"
      },
      "source": [
        "%%time\n",
        "documents = [_text.split() for _text in df_train.text] "
      ],
      "execution_count": null,
      "outputs": [
        {
          "output_type": "stream",
          "text": [
            "CPU times: user 368 ms, sys: 53 ms, total: 421 ms\n",
            "Wall time: 419 ms\n"
          ],
          "name": "stdout"
        }
      ]
    },
    {
      "cell_type": "code",
      "metadata": {
        "id": "X6gm7g0azvYH"
      },
      "source": [
        "w2v_model = gensim.models.word2vec.Word2Vec(size=W2V_SIZE, \n",
        "                                            window=W2V_WINDOW, \n",
        "                                            min_count=W2V_MIN_COUNT, \n",
        "                                            workers=8)"
      ],
      "execution_count": null,
      "outputs": []
    },
    {
      "cell_type": "code",
      "metadata": {
        "colab": {
          "base_uri": "https://localhost:8080/"
        },
        "id": "oPPWLdUUzxZ4",
        "outputId": "06f33794-0884-4d35-8e8b-423322710d3e"
      },
      "source": [
        "w2v_model.build_vocab(documents)"
      ],
      "execution_count": null,
      "outputs": [
        {
          "output_type": "stream",
          "text": [
            "2021-03-03 13:33:37,846 : INFO : collecting all words and their counts\n",
            "2021-03-03 13:33:37,848 : INFO : PROGRESS: at sentence #0, processed 0 words, keeping 0 word types\n",
            "2021-03-03 13:33:37,890 : INFO : PROGRESS: at sentence #10000, processed 83494 words, keeping 32623 word types\n",
            "2021-03-03 13:33:37,934 : INFO : PROGRESS: at sentence #20000, processed 166432 words, keeping 55214 word types\n",
            "2021-03-03 13:33:37,973 : INFO : PROGRESS: at sentence #30000, processed 250859 words, keeping 75529 word types\n",
            "2021-03-03 13:33:38,016 : INFO : PROGRESS: at sentence #40000, processed 334187 words, keeping 93339 word types\n",
            "2021-03-03 13:33:38,054 : INFO : PROGRESS: at sentence #50000, processed 417580 words, keeping 109965 word types\n",
            "2021-03-03 13:33:38,077 : INFO : collected 119249 word types from a corpus of 466733 raw words and 56000 sentences\n",
            "2021-03-03 13:33:38,079 : INFO : Loading a fresh vocabulary\n",
            "2021-03-03 13:33:38,135 : INFO : effective_min_count=10 retains 5417 unique words (4% of original 119249, drops 113832)\n",
            "2021-03-03 13:33:38,136 : INFO : effective_min_count=10 leaves 288322 word corpus (61% of original 466733, drops 178411)\n",
            "2021-03-03 13:33:38,158 : INFO : deleting the raw counts dictionary of 119249 items\n",
            "2021-03-03 13:33:38,163 : INFO : sample=0.001 downsamples 39 most-common words\n",
            "2021-03-03 13:33:38,165 : INFO : downsampling leaves estimated 259941 word corpus (90.2% of prior 288322)\n",
            "2021-03-03 13:33:38,186 : INFO : estimated required memory for 5417 words and 300 dimensions: 15709300 bytes\n",
            "2021-03-03 13:33:38,187 : INFO : resetting layer weights\n"
          ],
          "name": "stderr"
        }
      ]
    },
    {
      "cell_type": "code",
      "metadata": {
        "colab": {
          "base_uri": "https://localhost:8080/"
        },
        "id": "ALkpeSznzzF4",
        "outputId": "1f1e055e-82e0-40c7-a27c-96b5d3e11bbf"
      },
      "source": [
        "words = w2v_model.wv.vocab.keys()\n",
        "vocab_size = len(words)\n",
        "print(\"Vocab size\", vocab_size)"
      ],
      "execution_count": null,
      "outputs": [
        {
          "output_type": "stream",
          "text": [
            "Vocab size 5417\n"
          ],
          "name": "stdout"
        }
      ]
    },
    {
      "cell_type": "code",
      "metadata": {
        "colab": {
          "base_uri": "https://localhost:8080/"
        },
        "id": "k0FDLsFuz4ba",
        "outputId": "374499cd-9ea0-4369-dbb1-385fbe954d61"
      },
      "source": [
        "%%time\n",
        "w2v_model.train(documents, total_examples=len(documents), epochs=W2V_EPOCH)"
      ],
      "execution_count": null,
      "outputs": [
        {
          "output_type": "stream",
          "text": [
            "2021-03-03 13:33:45,562 : INFO : training model with 8 workers on 5417 vocabulary and 300 features, using sg=0 hs=0 sample=0.001 negative=5 window=7\n",
            "2021-03-03 13:33:46,267 : INFO : worker thread finished; awaiting finish of 7 more threads\n",
            "2021-03-03 13:33:46,282 : INFO : worker thread finished; awaiting finish of 6 more threads\n",
            "2021-03-03 13:33:46,331 : INFO : worker thread finished; awaiting finish of 5 more threads\n",
            "2021-03-03 13:33:46,333 : INFO : worker thread finished; awaiting finish of 4 more threads\n",
            "2021-03-03 13:33:46,339 : INFO : worker thread finished; awaiting finish of 3 more threads\n",
            "2021-03-03 13:33:46,341 : INFO : worker thread finished; awaiting finish of 2 more threads\n",
            "2021-03-03 13:33:46,342 : INFO : worker thread finished; awaiting finish of 1 more threads\n",
            "2021-03-03 13:33:46,347 : INFO : worker thread finished; awaiting finish of 0 more threads\n",
            "2021-03-03 13:33:46,348 : INFO : EPOCH - 1 : training on 466733 raw words (259879 effective words) took 0.8s, 337836 effective words/s\n",
            "2021-03-03 13:33:47,065 : INFO : worker thread finished; awaiting finish of 7 more threads\n",
            "2021-03-03 13:33:47,092 : INFO : worker thread finished; awaiting finish of 6 more threads\n",
            "2021-03-03 13:33:47,102 : INFO : worker thread finished; awaiting finish of 5 more threads\n",
            "2021-03-03 13:33:47,104 : INFO : worker thread finished; awaiting finish of 4 more threads\n",
            "2021-03-03 13:33:47,126 : INFO : worker thread finished; awaiting finish of 3 more threads\n",
            "2021-03-03 13:33:47,129 : INFO : worker thread finished; awaiting finish of 2 more threads\n",
            "2021-03-03 13:33:47,142 : INFO : worker thread finished; awaiting finish of 1 more threads\n",
            "2021-03-03 13:33:47,147 : INFO : worker thread finished; awaiting finish of 0 more threads\n",
            "2021-03-03 13:33:47,149 : INFO : EPOCH - 2 : training on 466733 raw words (259950 effective words) took 0.8s, 331209 effective words/s\n",
            "2021-03-03 13:33:47,883 : INFO : worker thread finished; awaiting finish of 7 more threads\n",
            "2021-03-03 13:33:47,891 : INFO : worker thread finished; awaiting finish of 6 more threads\n",
            "2021-03-03 13:33:47,901 : INFO : worker thread finished; awaiting finish of 5 more threads\n",
            "2021-03-03 13:33:47,903 : INFO : worker thread finished; awaiting finish of 4 more threads\n",
            "2021-03-03 13:33:47,918 : INFO : worker thread finished; awaiting finish of 3 more threads\n",
            "2021-03-03 13:33:47,921 : INFO : worker thread finished; awaiting finish of 2 more threads\n",
            "2021-03-03 13:33:47,929 : INFO : worker thread finished; awaiting finish of 1 more threads\n",
            "2021-03-03 13:33:47,937 : INFO : worker thread finished; awaiting finish of 0 more threads\n",
            "2021-03-03 13:33:47,938 : INFO : EPOCH - 3 : training on 466733 raw words (259814 effective words) took 0.8s, 335789 effective words/s\n",
            "2021-03-03 13:33:48,662 : INFO : worker thread finished; awaiting finish of 7 more threads\n",
            "2021-03-03 13:33:48,671 : INFO : worker thread finished; awaiting finish of 6 more threads\n",
            "2021-03-03 13:33:48,673 : INFO : worker thread finished; awaiting finish of 5 more threads\n",
            "2021-03-03 13:33:48,693 : INFO : worker thread finished; awaiting finish of 4 more threads\n",
            "2021-03-03 13:33:48,695 : INFO : worker thread finished; awaiting finish of 3 more threads\n",
            "2021-03-03 13:33:48,703 : INFO : worker thread finished; awaiting finish of 2 more threads\n",
            "2021-03-03 13:33:48,711 : INFO : worker thread finished; awaiting finish of 1 more threads\n",
            "2021-03-03 13:33:48,722 : INFO : worker thread finished; awaiting finish of 0 more threads\n",
            "2021-03-03 13:33:48,723 : INFO : EPOCH - 4 : training on 466733 raw words (259718 effective words) took 0.8s, 336322 effective words/s\n",
            "2021-03-03 13:33:49,412 : INFO : worker thread finished; awaiting finish of 7 more threads\n",
            "2021-03-03 13:33:49,435 : INFO : worker thread finished; awaiting finish of 6 more threads\n",
            "2021-03-03 13:33:49,481 : INFO : worker thread finished; awaiting finish of 5 more threads\n",
            "2021-03-03 13:33:49,485 : INFO : worker thread finished; awaiting finish of 4 more threads\n",
            "2021-03-03 13:33:49,487 : INFO : worker thread finished; awaiting finish of 3 more threads\n",
            "2021-03-03 13:33:49,489 : INFO : worker thread finished; awaiting finish of 2 more threads\n",
            "2021-03-03 13:33:49,497 : INFO : worker thread finished; awaiting finish of 1 more threads\n",
            "2021-03-03 13:33:49,499 : INFO : worker thread finished; awaiting finish of 0 more threads\n",
            "2021-03-03 13:33:49,499 : INFO : EPOCH - 5 : training on 466733 raw words (259946 effective words) took 0.8s, 340326 effective words/s\n",
            "2021-03-03 13:33:50,203 : INFO : worker thread finished; awaiting finish of 7 more threads\n",
            "2021-03-03 13:33:50,209 : INFO : worker thread finished; awaiting finish of 6 more threads\n",
            "2021-03-03 13:33:50,211 : INFO : worker thread finished; awaiting finish of 5 more threads\n",
            "2021-03-03 13:33:50,223 : INFO : worker thread finished; awaiting finish of 4 more threads\n",
            "2021-03-03 13:33:50,247 : INFO : worker thread finished; awaiting finish of 3 more threads\n",
            "2021-03-03 13:33:50,267 : INFO : worker thread finished; awaiting finish of 2 more threads\n",
            "2021-03-03 13:33:50,275 : INFO : worker thread finished; awaiting finish of 1 more threads\n",
            "2021-03-03 13:33:50,281 : INFO : worker thread finished; awaiting finish of 0 more threads\n",
            "2021-03-03 13:33:50,282 : INFO : EPOCH - 6 : training on 466733 raw words (259975 effective words) took 0.8s, 338970 effective words/s\n",
            "2021-03-03 13:33:50,975 : INFO : worker thread finished; awaiting finish of 7 more threads\n",
            "2021-03-03 13:33:50,977 : INFO : worker thread finished; awaiting finish of 6 more threads\n",
            "2021-03-03 13:33:51,013 : INFO : worker thread finished; awaiting finish of 5 more threads\n",
            "2021-03-03 13:33:51,025 : INFO : worker thread finished; awaiting finish of 4 more threads\n",
            "2021-03-03 13:33:51,038 : INFO : worker thread finished; awaiting finish of 3 more threads\n",
            "2021-03-03 13:33:51,045 : INFO : worker thread finished; awaiting finish of 2 more threads\n",
            "2021-03-03 13:33:51,054 : INFO : worker thread finished; awaiting finish of 1 more threads\n",
            "2021-03-03 13:33:51,061 : INFO : worker thread finished; awaiting finish of 0 more threads\n",
            "2021-03-03 13:33:51,063 : INFO : EPOCH - 7 : training on 466733 raw words (260055 effective words) took 0.8s, 338254 effective words/s\n",
            "2021-03-03 13:33:51,779 : INFO : worker thread finished; awaiting finish of 7 more threads\n",
            "2021-03-03 13:33:51,785 : INFO : worker thread finished; awaiting finish of 6 more threads\n",
            "2021-03-03 13:33:51,808 : INFO : worker thread finished; awaiting finish of 5 more threads\n",
            "2021-03-03 13:33:51,811 : INFO : worker thread finished; awaiting finish of 4 more threads\n",
            "2021-03-03 13:33:51,812 : INFO : worker thread finished; awaiting finish of 3 more threads\n",
            "2021-03-03 13:33:51,828 : INFO : worker thread finished; awaiting finish of 2 more threads\n",
            "2021-03-03 13:33:51,840 : INFO : worker thread finished; awaiting finish of 1 more threads\n",
            "2021-03-03 13:33:51,841 : INFO : worker thread finished; awaiting finish of 0 more threads\n",
            "2021-03-03 13:33:51,843 : INFO : EPOCH - 8 : training on 466733 raw words (260058 effective words) took 0.8s, 338690 effective words/s\n",
            "2021-03-03 13:33:52,551 : INFO : worker thread finished; awaiting finish of 7 more threads\n",
            "2021-03-03 13:33:52,579 : INFO : worker thread finished; awaiting finish of 6 more threads\n",
            "2021-03-03 13:33:52,596 : INFO : worker thread finished; awaiting finish of 5 more threads\n",
            "2021-03-03 13:33:52,603 : INFO : worker thread finished; awaiting finish of 4 more threads\n",
            "2021-03-03 13:33:52,606 : INFO : worker thread finished; awaiting finish of 3 more threads\n",
            "2021-03-03 13:33:52,617 : INFO : worker thread finished; awaiting finish of 2 more threads\n",
            "2021-03-03 13:33:52,620 : INFO : worker thread finished; awaiting finish of 1 more threads\n",
            "2021-03-03 13:33:52,627 : INFO : worker thread finished; awaiting finish of 0 more threads\n",
            "2021-03-03 13:33:52,629 : INFO : EPOCH - 9 : training on 466733 raw words (259895 effective words) took 0.8s, 337320 effective words/s\n",
            "2021-03-03 13:33:53,315 : INFO : worker thread finished; awaiting finish of 7 more threads\n",
            "2021-03-03 13:33:53,329 : INFO : worker thread finished; awaiting finish of 6 more threads\n",
            "2021-03-03 13:33:53,366 : INFO : worker thread finished; awaiting finish of 5 more threads\n",
            "2021-03-03 13:33:53,385 : INFO : worker thread finished; awaiting finish of 4 more threads\n",
            "2021-03-03 13:33:53,387 : INFO : worker thread finished; awaiting finish of 3 more threads\n",
            "2021-03-03 13:33:53,396 : INFO : worker thread finished; awaiting finish of 2 more threads\n",
            "2021-03-03 13:33:53,403 : INFO : worker thread finished; awaiting finish of 1 more threads\n",
            "2021-03-03 13:33:53,404 : INFO : worker thread finished; awaiting finish of 0 more threads\n",
            "2021-03-03 13:33:53,408 : INFO : EPOCH - 10 : training on 466733 raw words (260003 effective words) took 0.8s, 340140 effective words/s\n",
            "2021-03-03 13:33:54,141 : INFO : worker thread finished; awaiting finish of 7 more threads\n",
            "2021-03-03 13:33:54,159 : INFO : worker thread finished; awaiting finish of 6 more threads\n",
            "2021-03-03 13:33:54,166 : INFO : worker thread finished; awaiting finish of 5 more threads\n",
            "2021-03-03 13:33:54,169 : INFO : worker thread finished; awaiting finish of 4 more threads\n",
            "2021-03-03 13:33:54,205 : INFO : worker thread finished; awaiting finish of 3 more threads\n",
            "2021-03-03 13:33:54,215 : INFO : worker thread finished; awaiting finish of 2 more threads\n",
            "2021-03-03 13:33:54,218 : INFO : worker thread finished; awaiting finish of 1 more threads\n",
            "2021-03-03 13:33:54,219 : INFO : worker thread finished; awaiting finish of 0 more threads\n",
            "2021-03-03 13:33:54,220 : INFO : EPOCH - 11 : training on 466733 raw words (259855 effective words) took 0.8s, 325352 effective words/s\n",
            "2021-03-03 13:33:54,921 : INFO : worker thread finished; awaiting finish of 7 more threads\n",
            "2021-03-03 13:33:54,927 : INFO : worker thread finished; awaiting finish of 6 more threads\n",
            "2021-03-03 13:33:54,932 : INFO : worker thread finished; awaiting finish of 5 more threads\n",
            "2021-03-03 13:33:54,949 : INFO : worker thread finished; awaiting finish of 4 more threads\n",
            "2021-03-03 13:33:54,986 : INFO : worker thread finished; awaiting finish of 3 more threads\n",
            "2021-03-03 13:33:54,995 : INFO : worker thread finished; awaiting finish of 2 more threads\n",
            "2021-03-03 13:33:54,996 : INFO : worker thread finished; awaiting finish of 1 more threads\n",
            "2021-03-03 13:33:54,997 : INFO : worker thread finished; awaiting finish of 0 more threads\n",
            "2021-03-03 13:33:55,001 : INFO : EPOCH - 12 : training on 466733 raw words (260054 effective words) took 0.8s, 341482 effective words/s\n",
            "2021-03-03 13:33:55,736 : INFO : worker thread finished; awaiting finish of 7 more threads\n",
            "2021-03-03 13:33:55,744 : INFO : worker thread finished; awaiting finish of 6 more threads\n",
            "2021-03-03 13:33:55,746 : INFO : worker thread finished; awaiting finish of 5 more threads\n",
            "2021-03-03 13:33:55,747 : INFO : worker thread finished; awaiting finish of 4 more threads\n",
            "2021-03-03 13:33:55,774 : INFO : worker thread finished; awaiting finish of 3 more threads\n",
            "2021-03-03 13:33:55,776 : INFO : worker thread finished; awaiting finish of 2 more threads\n",
            "2021-03-03 13:33:55,778 : INFO : worker thread finished; awaiting finish of 1 more threads\n",
            "2021-03-03 13:33:55,783 : INFO : worker thread finished; awaiting finish of 0 more threads\n",
            "2021-03-03 13:33:55,785 : INFO : EPOCH - 13 : training on 466733 raw words (259723 effective words) took 0.8s, 339329 effective words/s\n",
            "2021-03-03 13:33:56,488 : INFO : worker thread finished; awaiting finish of 7 more threads\n",
            "2021-03-03 13:33:56,507 : INFO : worker thread finished; awaiting finish of 6 more threads\n",
            "2021-03-03 13:33:56,517 : INFO : worker thread finished; awaiting finish of 5 more threads\n",
            "2021-03-03 13:33:56,529 : INFO : worker thread finished; awaiting finish of 4 more threads\n",
            "2021-03-03 13:33:56,550 : INFO : worker thread finished; awaiting finish of 3 more threads\n",
            "2021-03-03 13:33:56,557 : INFO : worker thread finished; awaiting finish of 2 more threads\n",
            "2021-03-03 13:33:56,560 : INFO : worker thread finished; awaiting finish of 1 more threads\n",
            "2021-03-03 13:33:56,563 : INFO : worker thread finished; awaiting finish of 0 more threads\n",
            "2021-03-03 13:33:56,564 : INFO : EPOCH - 14 : training on 466733 raw words (260063 effective words) took 0.8s, 338557 effective words/s\n",
            "2021-03-03 13:33:57,256 : INFO : worker thread finished; awaiting finish of 7 more threads\n",
            "2021-03-03 13:33:57,288 : INFO : worker thread finished; awaiting finish of 6 more threads\n",
            "2021-03-03 13:33:57,303 : INFO : worker thread finished; awaiting finish of 5 more threads\n",
            "2021-03-03 13:33:57,315 : INFO : worker thread finished; awaiting finish of 4 more threads\n",
            "2021-03-03 13:33:57,319 : INFO : worker thread finished; awaiting finish of 3 more threads\n",
            "2021-03-03 13:33:57,323 : INFO : worker thread finished; awaiting finish of 2 more threads\n",
            "2021-03-03 13:33:57,341 : INFO : worker thread finished; awaiting finish of 1 more threads\n",
            "2021-03-03 13:33:57,345 : INFO : worker thread finished; awaiting finish of 0 more threads\n",
            "2021-03-03 13:33:57,347 : INFO : EPOCH - 15 : training on 466733 raw words (259983 effective words) took 0.8s, 341686 effective words/s\n",
            "2021-03-03 13:33:58,006 : INFO : worker thread finished; awaiting finish of 7 more threads\n",
            "2021-03-03 13:33:58,073 : INFO : worker thread finished; awaiting finish of 6 more threads\n",
            "2021-03-03 13:33:58,081 : INFO : worker thread finished; awaiting finish of 5 more threads\n",
            "2021-03-03 13:33:58,091 : INFO : worker thread finished; awaiting finish of 4 more threads\n",
            "2021-03-03 13:33:58,101 : INFO : worker thread finished; awaiting finish of 3 more threads\n",
            "2021-03-03 13:33:58,114 : INFO : worker thread finished; awaiting finish of 2 more threads\n",
            "2021-03-03 13:33:58,117 : INFO : worker thread finished; awaiting finish of 1 more threads\n",
            "2021-03-03 13:33:58,124 : INFO : worker thread finished; awaiting finish of 0 more threads\n",
            "2021-03-03 13:33:58,125 : INFO : EPOCH - 16 : training on 466733 raw words (259890 effective words) took 0.8s, 339276 effective words/s\n",
            "2021-03-03 13:33:58,831 : INFO : worker thread finished; awaiting finish of 7 more threads\n",
            "2021-03-03 13:33:58,860 : INFO : worker thread finished; awaiting finish of 6 more threads\n",
            "2021-03-03 13:33:58,866 : INFO : worker thread finished; awaiting finish of 5 more threads\n",
            "2021-03-03 13:33:58,872 : INFO : worker thread finished; awaiting finish of 4 more threads\n",
            "2021-03-03 13:33:58,877 : INFO : worker thread finished; awaiting finish of 3 more threads\n",
            "2021-03-03 13:33:58,883 : INFO : worker thread finished; awaiting finish of 2 more threads\n",
            "2021-03-03 13:33:58,887 : INFO : worker thread finished; awaiting finish of 1 more threads\n",
            "2021-03-03 13:33:58,894 : INFO : worker thread finished; awaiting finish of 0 more threads\n",
            "2021-03-03 13:33:58,895 : INFO : EPOCH - 17 : training on 466733 raw words (259890 effective words) took 0.8s, 342797 effective words/s\n",
            "2021-03-03 13:33:59,596 : INFO : worker thread finished; awaiting finish of 7 more threads\n",
            "2021-03-03 13:33:59,601 : INFO : worker thread finished; awaiting finish of 6 more threads\n",
            "2021-03-03 13:33:59,603 : INFO : worker thread finished; awaiting finish of 5 more threads\n",
            "2021-03-03 13:33:59,606 : INFO : worker thread finished; awaiting finish of 4 more threads\n",
            "2021-03-03 13:33:59,633 : INFO : worker thread finished; awaiting finish of 3 more threads\n",
            "2021-03-03 13:33:59,654 : INFO : worker thread finished; awaiting finish of 2 more threads\n",
            "2021-03-03 13:33:59,663 : INFO : worker thread finished; awaiting finish of 1 more threads\n",
            "2021-03-03 13:33:59,665 : INFO : worker thread finished; awaiting finish of 0 more threads\n",
            "2021-03-03 13:33:59,667 : INFO : EPOCH - 18 : training on 466733 raw words (260010 effective words) took 0.8s, 342018 effective words/s\n",
            "2021-03-03 13:34:00,337 : INFO : worker thread finished; awaiting finish of 7 more threads\n",
            "2021-03-03 13:34:00,397 : INFO : worker thread finished; awaiting finish of 6 more threads\n",
            "2021-03-03 13:34:00,404 : INFO : worker thread finished; awaiting finish of 5 more threads\n",
            "2021-03-03 13:34:00,414 : INFO : worker thread finished; awaiting finish of 4 more threads\n",
            "2021-03-03 13:34:00,422 : INFO : worker thread finished; awaiting finish of 3 more threads\n",
            "2021-03-03 13:34:00,433 : INFO : worker thread finished; awaiting finish of 2 more threads\n",
            "2021-03-03 13:34:00,434 : INFO : worker thread finished; awaiting finish of 1 more threads\n",
            "2021-03-03 13:34:00,436 : INFO : worker thread finished; awaiting finish of 0 more threads\n",
            "2021-03-03 13:34:00,436 : INFO : EPOCH - 19 : training on 466733 raw words (260045 effective words) took 0.8s, 343445 effective words/s\n",
            "2021-03-03 13:34:01,156 : INFO : worker thread finished; awaiting finish of 7 more threads\n",
            "2021-03-03 13:34:01,164 : INFO : worker thread finished; awaiting finish of 6 more threads\n",
            "2021-03-03 13:34:01,166 : INFO : worker thread finished; awaiting finish of 5 more threads\n",
            "2021-03-03 13:34:01,171 : INFO : worker thread finished; awaiting finish of 4 more threads\n",
            "2021-03-03 13:34:01,176 : INFO : worker thread finished; awaiting finish of 3 more threads\n",
            "2021-03-03 13:34:01,197 : INFO : worker thread finished; awaiting finish of 2 more threads\n",
            "2021-03-03 13:34:01,199 : INFO : worker thread finished; awaiting finish of 1 more threads\n",
            "2021-03-03 13:34:01,200 : INFO : worker thread finished; awaiting finish of 0 more threads\n",
            "2021-03-03 13:34:01,201 : INFO : EPOCH - 20 : training on 466733 raw words (260057 effective words) took 0.7s, 349759 effective words/s\n",
            "2021-03-03 13:34:01,935 : INFO : worker thread finished; awaiting finish of 7 more threads\n",
            "2021-03-03 13:34:01,941 : INFO : worker thread finished; awaiting finish of 6 more threads\n",
            "2021-03-03 13:34:01,945 : INFO : worker thread finished; awaiting finish of 5 more threads\n",
            "2021-03-03 13:34:01,960 : INFO : worker thread finished; awaiting finish of 4 more threads\n",
            "2021-03-03 13:34:01,970 : INFO : worker thread finished; awaiting finish of 3 more threads\n",
            "2021-03-03 13:34:01,972 : INFO : worker thread finished; awaiting finish of 2 more threads\n",
            "2021-03-03 13:34:01,976 : INFO : worker thread finished; awaiting finish of 1 more threads\n",
            "2021-03-03 13:34:01,984 : INFO : worker thread finished; awaiting finish of 0 more threads\n",
            "2021-03-03 13:34:01,986 : INFO : EPOCH - 21 : training on 466733 raw words (259833 effective words) took 0.8s, 340699 effective words/s\n",
            "2021-03-03 13:34:02,666 : INFO : worker thread finished; awaiting finish of 7 more threads\n",
            "2021-03-03 13:34:02,698 : INFO : worker thread finished; awaiting finish of 6 more threads\n",
            "2021-03-03 13:34:02,734 : INFO : worker thread finished; awaiting finish of 5 more threads\n",
            "2021-03-03 13:34:02,745 : INFO : worker thread finished; awaiting finish of 4 more threads\n",
            "2021-03-03 13:34:02,746 : INFO : worker thread finished; awaiting finish of 3 more threads\n",
            "2021-03-03 13:34:02,749 : INFO : worker thread finished; awaiting finish of 2 more threads\n",
            "2021-03-03 13:34:02,750 : INFO : worker thread finished; awaiting finish of 1 more threads\n",
            "2021-03-03 13:34:02,759 : INFO : worker thread finished; awaiting finish of 0 more threads\n",
            "2021-03-03 13:34:02,762 : INFO : EPOCH - 22 : training on 466733 raw words (260012 effective words) took 0.8s, 342036 effective words/s\n",
            "2021-03-03 13:34:03,497 : INFO : worker thread finished; awaiting finish of 7 more threads\n",
            "2021-03-03 13:34:03,506 : INFO : worker thread finished; awaiting finish of 6 more threads\n",
            "2021-03-03 13:34:03,509 : INFO : worker thread finished; awaiting finish of 5 more threads\n",
            "2021-03-03 13:34:03,511 : INFO : worker thread finished; awaiting finish of 4 more threads\n",
            "2021-03-03 13:34:03,514 : INFO : worker thread finished; awaiting finish of 3 more threads\n",
            "2021-03-03 13:34:03,518 : INFO : worker thread finished; awaiting finish of 2 more threads\n",
            "2021-03-03 13:34:03,534 : INFO : worker thread finished; awaiting finish of 1 more threads\n",
            "2021-03-03 13:34:03,545 : INFO : worker thread finished; awaiting finish of 0 more threads\n",
            "2021-03-03 13:34:03,547 : INFO : EPOCH - 23 : training on 466733 raw words (260004 effective words) took 0.8s, 337781 effective words/s\n",
            "2021-03-03 13:34:04,229 : INFO : worker thread finished; awaiting finish of 7 more threads\n",
            "2021-03-03 13:34:04,253 : INFO : worker thread finished; awaiting finish of 6 more threads\n",
            "2021-03-03 13:34:04,255 : INFO : worker thread finished; awaiting finish of 5 more threads\n",
            "2021-03-03 13:34:04,298 : INFO : worker thread finished; awaiting finish of 4 more threads\n",
            "2021-03-03 13:34:04,300 : INFO : worker thread finished; awaiting finish of 3 more threads\n",
            "2021-03-03 13:34:04,302 : INFO : worker thread finished; awaiting finish of 2 more threads\n",
            "2021-03-03 13:34:04,311 : INFO : worker thread finished; awaiting finish of 1 more threads\n",
            "2021-03-03 13:34:04,320 : INFO : worker thread finished; awaiting finish of 0 more threads\n",
            "2021-03-03 13:34:04,321 : INFO : EPOCH - 24 : training on 466733 raw words (259955 effective words) took 0.8s, 341754 effective words/s\n",
            "2021-03-03 13:34:05,021 : INFO : worker thread finished; awaiting finish of 7 more threads\n",
            "2021-03-03 13:34:05,033 : INFO : worker thread finished; awaiting finish of 6 more threads\n",
            "2021-03-03 13:34:05,043 : INFO : worker thread finished; awaiting finish of 5 more threads\n",
            "2021-03-03 13:34:05,058 : INFO : worker thread finished; awaiting finish of 4 more threads\n",
            "2021-03-03 13:34:05,069 : INFO : worker thread finished; awaiting finish of 3 more threads\n",
            "2021-03-03 13:34:05,076 : INFO : worker thread finished; awaiting finish of 2 more threads\n",
            "2021-03-03 13:34:05,089 : INFO : worker thread finished; awaiting finish of 1 more threads\n",
            "2021-03-03 13:34:05,094 : INFO : worker thread finished; awaiting finish of 0 more threads\n",
            "2021-03-03 13:34:05,096 : INFO : EPOCH - 25 : training on 466733 raw words (259819 effective words) took 0.8s, 341305 effective words/s\n",
            "2021-03-03 13:34:05,798 : INFO : worker thread finished; awaiting finish of 7 more threads\n",
            "2021-03-03 13:34:05,832 : INFO : worker thread finished; awaiting finish of 6 more threads\n",
            "2021-03-03 13:34:05,850 : INFO : worker thread finished; awaiting finish of 5 more threads\n",
            "2021-03-03 13:34:05,852 : INFO : worker thread finished; awaiting finish of 4 more threads\n",
            "2021-03-03 13:34:05,860 : INFO : worker thread finished; awaiting finish of 3 more threads\n",
            "2021-03-03 13:34:05,874 : INFO : worker thread finished; awaiting finish of 2 more threads\n",
            "2021-03-03 13:34:05,886 : INFO : worker thread finished; awaiting finish of 1 more threads\n",
            "2021-03-03 13:34:05,897 : INFO : worker thread finished; awaiting finish of 0 more threads\n",
            "2021-03-03 13:34:05,899 : INFO : EPOCH - 26 : training on 466733 raw words (259929 effective words) took 0.8s, 330021 effective words/s\n",
            "2021-03-03 13:34:06,616 : INFO : worker thread finished; awaiting finish of 7 more threads\n",
            "2021-03-03 13:34:06,624 : INFO : worker thread finished; awaiting finish of 6 more threads\n",
            "2021-03-03 13:34:06,650 : INFO : worker thread finished; awaiting finish of 5 more threads\n",
            "2021-03-03 13:34:06,652 : INFO : worker thread finished; awaiting finish of 4 more threads\n",
            "2021-03-03 13:34:06,654 : INFO : worker thread finished; awaiting finish of 3 more threads\n",
            "2021-03-03 13:34:06,659 : INFO : worker thread finished; awaiting finish of 2 more threads\n",
            "2021-03-03 13:34:06,673 : INFO : worker thread finished; awaiting finish of 1 more threads\n",
            "2021-03-03 13:34:06,682 : INFO : worker thread finished; awaiting finish of 0 more threads\n",
            "2021-03-03 13:34:06,684 : INFO : EPOCH - 27 : training on 466733 raw words (260088 effective words) took 0.8s, 338430 effective words/s\n",
            "2021-03-03 13:34:07,406 : INFO : worker thread finished; awaiting finish of 7 more threads\n",
            "2021-03-03 13:34:07,414 : INFO : worker thread finished; awaiting finish of 6 more threads\n",
            "2021-03-03 13:34:07,416 : INFO : worker thread finished; awaiting finish of 5 more threads\n",
            "2021-03-03 13:34:07,418 : INFO : worker thread finished; awaiting finish of 4 more threads\n",
            "2021-03-03 13:34:07,440 : INFO : worker thread finished; awaiting finish of 3 more threads\n",
            "2021-03-03 13:34:07,442 : INFO : worker thread finished; awaiting finish of 2 more threads\n",
            "2021-03-03 13:34:07,444 : INFO : worker thread finished; awaiting finish of 1 more threads\n",
            "2021-03-03 13:34:07,456 : INFO : worker thread finished; awaiting finish of 0 more threads\n",
            "2021-03-03 13:34:07,458 : INFO : EPOCH - 28 : training on 466733 raw words (259887 effective words) took 0.8s, 340440 effective words/s\n",
            "2021-03-03 13:34:08,132 : INFO : worker thread finished; awaiting finish of 7 more threads\n",
            "2021-03-03 13:34:08,167 : INFO : worker thread finished; awaiting finish of 6 more threads\n",
            "2021-03-03 13:34:08,181 : INFO : worker thread finished; awaiting finish of 5 more threads\n",
            "2021-03-03 13:34:08,191 : INFO : worker thread finished; awaiting finish of 4 more threads\n",
            "2021-03-03 13:34:08,211 : INFO : worker thread finished; awaiting finish of 3 more threads\n",
            "2021-03-03 13:34:08,220 : INFO : worker thread finished; awaiting finish of 2 more threads\n",
            "2021-03-03 13:34:08,230 : INFO : worker thread finished; awaiting finish of 1 more threads\n",
            "2021-03-03 13:34:08,239 : INFO : worker thread finished; awaiting finish of 0 more threads\n",
            "2021-03-03 13:34:08,241 : INFO : EPOCH - 29 : training on 466733 raw words (259910 effective words) took 0.8s, 338367 effective words/s\n",
            "2021-03-03 13:34:08,949 : INFO : worker thread finished; awaiting finish of 7 more threads\n",
            "2021-03-03 13:34:08,951 : INFO : worker thread finished; awaiting finish of 6 more threads\n",
            "2021-03-03 13:34:08,962 : INFO : worker thread finished; awaiting finish of 5 more threads\n",
            "2021-03-03 13:34:08,966 : INFO : worker thread finished; awaiting finish of 4 more threads\n",
            "2021-03-03 13:34:08,997 : INFO : worker thread finished; awaiting finish of 3 more threads\n",
            "2021-03-03 13:34:09,014 : INFO : worker thread finished; awaiting finish of 2 more threads\n",
            "2021-03-03 13:34:09,020 : INFO : worker thread finished; awaiting finish of 1 more threads\n",
            "2021-03-03 13:34:09,023 : INFO : worker thread finished; awaiting finish of 0 more threads\n",
            "2021-03-03 13:34:09,024 : INFO : EPOCH - 30 : training on 466733 raw words (259793 effective words) took 0.8s, 337302 effective words/s\n",
            "2021-03-03 13:34:09,719 : INFO : worker thread finished; awaiting finish of 7 more threads\n",
            "2021-03-03 13:34:09,739 : INFO : worker thread finished; awaiting finish of 6 more threads\n",
            "2021-03-03 13:34:09,743 : INFO : worker thread finished; awaiting finish of 5 more threads\n",
            "2021-03-03 13:34:09,749 : INFO : worker thread finished; awaiting finish of 4 more threads\n",
            "2021-03-03 13:34:09,760 : INFO : worker thread finished; awaiting finish of 3 more threads\n",
            "2021-03-03 13:34:09,785 : INFO : worker thread finished; awaiting finish of 2 more threads\n",
            "2021-03-03 13:34:09,789 : INFO : worker thread finished; awaiting finish of 1 more threads\n",
            "2021-03-03 13:34:09,800 : INFO : worker thread finished; awaiting finish of 0 more threads\n",
            "2021-03-03 13:34:09,801 : INFO : EPOCH - 31 : training on 466733 raw words (259892 effective words) took 0.8s, 341255 effective words/s\n",
            "2021-03-03 13:34:10,537 : INFO : worker thread finished; awaiting finish of 7 more threads\n",
            "2021-03-03 13:34:10,541 : INFO : worker thread finished; awaiting finish of 6 more threads\n",
            "2021-03-03 13:34:10,543 : INFO : worker thread finished; awaiting finish of 5 more threads\n",
            "2021-03-03 13:34:10,545 : INFO : worker thread finished; awaiting finish of 4 more threads\n",
            "2021-03-03 13:34:10,546 : INFO : worker thread finished; awaiting finish of 3 more threads\n",
            "2021-03-03 13:34:10,547 : INFO : worker thread finished; awaiting finish of 2 more threads\n",
            "2021-03-03 13:34:10,548 : INFO : worker thread finished; awaiting finish of 1 more threads\n",
            "2021-03-03 13:34:10,550 : INFO : worker thread finished; awaiting finish of 0 more threads\n",
            "2021-03-03 13:34:10,551 : INFO : EPOCH - 32 : training on 466733 raw words (259995 effective words) took 0.7s, 352879 effective words/s\n",
            "2021-03-03 13:34:10,553 : INFO : training on a 14935456 raw words (8317980 effective words) took 25.0s, 332866 effective words/s\n"
          ],
          "name": "stderr"
        },
        {
          "output_type": "stream",
          "text": [
            "CPU times: user 45.5 s, sys: 386 ms, total: 45.9 s\n",
            "Wall time: 25 s\n"
          ],
          "name": "stdout"
        },
        {
          "output_type": "execute_result",
          "data": {
            "text/plain": [
              "(8317980, 14935456)"
            ]
          },
          "metadata": {
            "tags": []
          },
          "execution_count": 92
        }
      ]
    },
    {
      "cell_type": "code",
      "metadata": {
        "colab": {
          "base_uri": "https://localhost:8080/"
        },
        "id": "puvwOnvpz7AR",
        "outputId": "c26672f5-afe4-494b-ffb4-84e6ad32ac8e"
      },
      "source": [
        "w2v_model.most_similar(\"love\")"
      ],
      "execution_count": null,
      "outputs": [
        {
          "output_type": "stream",
          "text": [
            "/usr/local/lib/python3.7/dist-packages/ipykernel_launcher.py:1: DeprecationWarning: Call to deprecated `most_similar` (Method will be removed in 4.0.0, use self.wv.most_similar() instead).\n",
            "  \"\"\"Entry point for launching an IPython kernel.\n",
            "2021-03-03 13:35:04,143 : INFO : precomputing L2-norms of word weight vectors\n"
          ],
          "name": "stderr"
        },
        {
          "output_type": "execute_result",
          "data": {
            "text/plain": [
              "[('always', 0.8170008659362793),\n",
              " ('girl', 0.8154698014259338),\n",
              " ('beautiful', 0.8115333318710327),\n",
              " ('best', 0.8046836853027344),\n",
              " ('amazing', 0.8043886423110962),\n",
              " ('tooop', 0.7871783375740051),\n",
              " ('great', 0.7861613035202026),\n",
              " ('algeria', 0.7854702472686768),\n",
              " ('work', 0.7794241309165955),\n",
              " ('going', 0.7751379609107971)]"
            ]
          },
          "metadata": {
            "tags": []
          },
          "execution_count": 93
        }
      ]
    },
    {
      "cell_type": "code",
      "metadata": {
        "colab": {
          "base_uri": "https://localhost:8080/"
        },
        "id": "aSXQTQ-a0NGa",
        "outputId": "089d4fb7-0574-479e-9de3-e12427629a04"
      },
      "source": [
        "%%time\n",
        "tokenizer = Tokenizer()\n",
        "tokenizer.fit_on_texts(df_train.text)\n",
        "\n",
        "vocab_size = len(tokenizer.word_index) + 1\n",
        "print(\"Total words\", vocab_size)"
      ],
      "execution_count": null,
      "outputs": [
        {
          "output_type": "stream",
          "text": [
            "Total words 119250\n",
            "CPU times: user 1.19 s, sys: 27.9 ms, total: 1.22 s\n",
            "Wall time: 1.22 s\n"
          ],
          "name": "stdout"
        }
      ]
    },
    {
      "cell_type": "code",
      "metadata": {
        "colab": {
          "base_uri": "https://localhost:8080/"
        },
        "id": "HLKdtKGO0T_Z",
        "outputId": "a88fcb3e-0568-4568-f83d-c94d92fbed59"
      },
      "source": [
        "%%time\n",
        "x_train = pad_sequences(tokenizer.texts_to_sequences(df_train.text), maxlen=SEQUENCE_LENGTH)\n",
        "x_test = pad_sequences(tokenizer.texts_to_sequences(df_test.text), maxlen=SEQUENCE_LENGTH)"
      ],
      "execution_count": null,
      "outputs": [
        {
          "output_type": "stream",
          "text": [
            "CPU times: user 1.41 s, sys: 0 ns, total: 1.41 s\n",
            "Wall time: 1.42 s\n"
          ],
          "name": "stdout"
        }
      ]
    },
    {
      "cell_type": "code",
      "metadata": {
        "colab": {
          "base_uri": "https://localhost:8080/"
        },
        "id": "9NVsOY6U0X-p",
        "outputId": "6616f476-b405-4d21-d0fd-f1b095528801"
      },
      "source": [
        "labels = df_train.label.unique().tolist()\n",
        "labels"
      ],
      "execution_count": null,
      "outputs": [
        {
          "output_type": "execute_result",
          "data": {
            "text/plain": [
              "['1', '-1']"
            ]
          },
          "metadata": {
            "tags": []
          },
          "execution_count": 96
        }
      ]
    },
    {
      "cell_type": "code",
      "metadata": {
        "colab": {
          "base_uri": "https://localhost:8080/"
        },
        "id": "7G23b9MT0eIt",
        "outputId": "ba6b3133-8bc6-4738-9db4-95c05df1349b"
      },
      "source": [
        "encoder = LabelEncoder()\n",
        "encoder.fit(df_train.label.tolist())\n",
        "\n",
        "y_train = encoder.transform(df_train.label.tolist())\n",
        "y_test = encoder.transform(df_test.label.tolist())\n",
        "\n",
        "y_train = y_train.reshape(-1,1)\n",
        "y_test = y_test.reshape(-1,1)\n",
        "\n",
        "print(\"y_train\",y_train.shape)\n",
        "print(\"y_test\",y_test.shape)"
      ],
      "execution_count": null,
      "outputs": [
        {
          "output_type": "stream",
          "text": [
            "y_train (56000, 1)\n",
            "y_test (14000, 1)\n"
          ],
          "name": "stdout"
        }
      ]
    },
    {
      "cell_type": "code",
      "metadata": {
        "colab": {
          "base_uri": "https://localhost:8080/"
        },
        "id": "vgjM6itC0lnS",
        "outputId": "10428766-8c40-4e73-8a5b-50bea1f1c0af"
      },
      "source": [
        "\n",
        "\n",
        "print(\"x_train\", x_train.shape)\n",
        "print(\"y_train\", y_train.shape)\n",
        "print()\n",
        "print(\"x_test\", x_test.shape)\n",
        "print(\"y_test\", y_test.shape)\n",
        "\n"
      ],
      "execution_count": null,
      "outputs": [
        {
          "output_type": "stream",
          "text": [
            "x_train (56000, 300)\n",
            "y_train (56000, 1)\n",
            "\n",
            "x_test (14000, 300)\n",
            "y_test (14000, 1)\n"
          ],
          "name": "stdout"
        }
      ]
    },
    {
      "cell_type": "code",
      "metadata": {
        "colab": {
          "base_uri": "https://localhost:8080/"
        },
        "id": "u2XpIq040q5Q",
        "outputId": "1d14f25b-4a1b-40fc-8d01-0ca81e233f26"
      },
      "source": [
        "\n",
        "\n",
        "y_train[:10]\n",
        "\n"
      ],
      "execution_count": null,
      "outputs": [
        {
          "output_type": "execute_result",
          "data": {
            "text/plain": [
              "array([[1],\n",
              "       [1],\n",
              "       [0],\n",
              "       [1],\n",
              "       [1],\n",
              "       [1],\n",
              "       [0],\n",
              "       [1],\n",
              "       [1],\n",
              "       [1]])"
            ]
          },
          "metadata": {
            "tags": []
          },
          "execution_count": 99
        }
      ]
    },
    {
      "cell_type": "code",
      "metadata": {
        "colab": {
          "base_uri": "https://localhost:8080/"
        },
        "id": "mSaHlA9O0ut0",
        "outputId": "bc8c4d07-2ffc-4d3a-e994-a3615a09bd02"
      },
      "source": [
        "embedding_matrix = np.zeros((vocab_size, W2V_SIZE))\n",
        "for word, i in tokenizer.word_index.items():\n",
        "  if word in w2v_model.wv:\n",
        "    embedding_matrix[i] = w2v_model.wv[word]\n",
        "print(embedding_matrix.shape)"
      ],
      "execution_count": null,
      "outputs": [
        {
          "output_type": "stream",
          "text": [
            "(119250, 300)\n"
          ],
          "name": "stdout"
        }
      ]
    },
    {
      "cell_type": "code",
      "metadata": {
        "id": "19IcijXK1BCX"
      },
      "source": [
        "embedding_layer = Embedding(vocab_size, W2V_SIZE, weights=[embedding_matrix], input_length=SEQUENCE_LENGTH, trainable=False)"
      ],
      "execution_count": null,
      "outputs": []
    },
    {
      "cell_type": "code",
      "metadata": {
        "colab": {
          "base_uri": "https://localhost:8080/"
        },
        "id": "mudB0woy1Ctd",
        "outputId": "3489b1db-fbdf-4f55-8d4c-bfa5fdf707f4"
      },
      "source": [
        "model = Sequential()\n",
        "model.add(embedding_layer)\n",
        "model.add(Dropout(0.5))\n",
        "model.add(LSTM(100, dropout=0.2, recurrent_dropout=0.2))\n",
        "model.add(Dense(1, activation='sigmoid'))\n",
        "\n",
        "model.summary()"
      ],
      "execution_count": null,
      "outputs": [
        {
          "output_type": "stream",
          "text": [
            "Model: \"sequential_1\"\n",
            "_________________________________________________________________\n",
            "Layer (type)                 Output Shape              Param #   \n",
            "=================================================================\n",
            "embedding_1 (Embedding)      (None, 300, 300)          35775000  \n",
            "_________________________________________________________________\n",
            "dropout_1 (Dropout)          (None, 300, 300)          0         \n",
            "_________________________________________________________________\n",
            "lstm_1 (LSTM)                (None, 100)               160400    \n",
            "_________________________________________________________________\n",
            "dense_1 (Dense)              (None, 1)                 101       \n",
            "=================================================================\n",
            "Total params: 35,935,501\n",
            "Trainable params: 160,501\n",
            "Non-trainable params: 35,775,000\n",
            "_________________________________________________________________\n"
          ],
          "name": "stdout"
        }
      ]
    },
    {
      "cell_type": "code",
      "metadata": {
        "id": "J9bH2QZl1F7o"
      },
      "source": [
        "model.compile(loss='binary_crossentropy',\n",
        "              optimizer=\"adam\",\n",
        "              metrics=['accuracy'])"
      ],
      "execution_count": null,
      "outputs": []
    },
    {
      "cell_type": "code",
      "metadata": {
        "id": "yL1P5GeL1MDh"
      },
      "source": [
        "callbacks = [ ReduceLROnPlateau(monitor='val_loss', patience=5, cooldown=0),\n",
        "              EarlyStopping(monitor='val_acc', min_delta=1e-4, patience=5)]"
      ],
      "execution_count": null,
      "outputs": []
    },
    {
      "cell_type": "code",
      "metadata": {
        "colab": {
          "base_uri": "https://localhost:8080/"
        },
        "id": "rKWTtFyr1Ooy",
        "outputId": "95bef3b2-5615-4931-e296-2a770c50b60d"
      },
      "source": [
        "%%time\n",
        "history = model.fit(x_train, y_train,\n",
        "                    batch_size=BATCH_SIZE,\n",
        "                    epochs=EPOCHS,\n",
        "                    validation_split=0.1,\n",
        "                    verbose=1,\n",
        "                    callbacks=callbacks)"
      ],
      "execution_count": null,
      "outputs": [
        {
          "output_type": "stream",
          "text": [
            "Epoch 1/8\n",
            "50/50 [==============================] - 644s 13s/step - loss: 0.5665 - accuracy: 0.6994 - val_loss: 0.4588 - val_accuracy: 0.7775\n",
            "WARNING:tensorflow:Early stopping conditioned on metric `val_acc` which is not available. Available metrics are: loss,accuracy,val_loss,val_accuracy,lr\n"
          ],
          "name": "stdout"
        },
        {
          "output_type": "stream",
          "text": [
            "2021-03-03 13:48:15,292 : WARNING : Early stopping conditioned on metric `val_acc` which is not available. Available metrics are: loss,accuracy,val_loss,val_accuracy,lr\n"
          ],
          "name": "stderr"
        },
        {
          "output_type": "stream",
          "text": [
            "Epoch 2/8\n",
            "50/50 [==============================] - 654s 13s/step - loss: 0.4771 - accuracy: 0.7598 - val_loss: 0.4432 - val_accuracy: 0.7834\n",
            "WARNING:tensorflow:Early stopping conditioned on metric `val_acc` which is not available. Available metrics are: loss,accuracy,val_loss,val_accuracy,lr\n"
          ],
          "name": "stdout"
        },
        {
          "output_type": "stream",
          "text": [
            "2021-03-03 13:59:09,765 : WARNING : Early stopping conditioned on metric `val_acc` which is not available. Available metrics are: loss,accuracy,val_loss,val_accuracy,lr\n"
          ],
          "name": "stderr"
        },
        {
          "output_type": "stream",
          "text": [
            "Epoch 3/8\n",
            "50/50 [==============================] - 670s 13s/step - loss: 0.4633 - accuracy: 0.7679 - val_loss: 0.4342 - val_accuracy: 0.7877\n",
            "WARNING:tensorflow:Early stopping conditioned on metric `val_acc` which is not available. Available metrics are: loss,accuracy,val_loss,val_accuracy,lr\n"
          ],
          "name": "stdout"
        },
        {
          "output_type": "stream",
          "text": [
            "2021-03-03 14:10:19,291 : WARNING : Early stopping conditioned on metric `val_acc` which is not available. Available metrics are: loss,accuracy,val_loss,val_accuracy,lr\n"
          ],
          "name": "stderr"
        },
        {
          "output_type": "stream",
          "text": [
            "Epoch 4/8\n",
            "50/50 [==============================] - 656s 13s/step - loss: 0.4570 - accuracy: 0.7709 - val_loss: 0.4293 - val_accuracy: 0.7923\n",
            "WARNING:tensorflow:Early stopping conditioned on metric `val_acc` which is not available. Available metrics are: loss,accuracy,val_loss,val_accuracy,lr\n"
          ],
          "name": "stdout"
        },
        {
          "output_type": "stream",
          "text": [
            "2021-03-03 14:21:15,270 : WARNING : Early stopping conditioned on metric `val_acc` which is not available. Available metrics are: loss,accuracy,val_loss,val_accuracy,lr\n"
          ],
          "name": "stderr"
        },
        {
          "output_type": "stream",
          "text": [
            "Epoch 5/8\n",
            "50/50 [==============================] - 655s 13s/step - loss: 0.4508 - accuracy: 0.7718 - val_loss: 0.4270 - val_accuracy: 0.7916\n",
            "WARNING:tensorflow:Early stopping conditioned on metric `val_acc` which is not available. Available metrics are: loss,accuracy,val_loss,val_accuracy,lr\n"
          ],
          "name": "stdout"
        },
        {
          "output_type": "stream",
          "text": [
            "2021-03-03 14:32:10,460 : WARNING : Early stopping conditioned on metric `val_acc` which is not available. Available metrics are: loss,accuracy,val_loss,val_accuracy,lr\n"
          ],
          "name": "stderr"
        },
        {
          "output_type": "stream",
          "text": [
            "Epoch 6/8\n",
            "50/50 [==============================] - 652s 13s/step - loss: 0.4434 - accuracy: 0.7777 - val_loss: 0.4216 - val_accuracy: 0.7930\n",
            "WARNING:tensorflow:Early stopping conditioned on metric `val_acc` which is not available. Available metrics are: loss,accuracy,val_loss,val_accuracy,lr\n"
          ],
          "name": "stdout"
        },
        {
          "output_type": "stream",
          "text": [
            "2021-03-03 14:43:02,778 : WARNING : Early stopping conditioned on metric `val_acc` which is not available. Available metrics are: loss,accuracy,val_loss,val_accuracy,lr\n"
          ],
          "name": "stderr"
        },
        {
          "output_type": "stream",
          "text": [
            "Epoch 7/8\n",
            "50/50 [==============================] - 654s 13s/step - loss: 0.4403 - accuracy: 0.7789 - val_loss: 0.4199 - val_accuracy: 0.7934\n",
            "WARNING:tensorflow:Early stopping conditioned on metric `val_acc` which is not available. Available metrics are: loss,accuracy,val_loss,val_accuracy,lr\n"
          ],
          "name": "stdout"
        },
        {
          "output_type": "stream",
          "text": [
            "2021-03-03 14:53:57,117 : WARNING : Early stopping conditioned on metric `val_acc` which is not available. Available metrics are: loss,accuracy,val_loss,val_accuracy,lr\n"
          ],
          "name": "stderr"
        },
        {
          "output_type": "stream",
          "text": [
            "Epoch 8/8\n",
            "50/50 [==============================] - 654s 13s/step - loss: 0.4376 - accuracy: 0.7806 - val_loss: 0.4177 - val_accuracy: 0.7957\n",
            "WARNING:tensorflow:Early stopping conditioned on metric `val_acc` which is not available. Available metrics are: loss,accuracy,val_loss,val_accuracy,lr\n"
          ],
          "name": "stdout"
        },
        {
          "output_type": "stream",
          "text": [
            "2021-03-03 15:04:51,166 : WARNING : Early stopping conditioned on metric `val_acc` which is not available. Available metrics are: loss,accuracy,val_loss,val_accuracy,lr\n"
          ],
          "name": "stderr"
        },
        {
          "output_type": "stream",
          "text": [
            "CPU times: user 2h 36min 35s, sys: 9min 47s, total: 2h 46min 22s\n",
            "Wall time: 1h 27min 20s\n"
          ],
          "name": "stdout"
        }
      ]
    },
    {
      "cell_type": "code",
      "metadata": {
        "colab": {
          "base_uri": "https://localhost:8080/"
        },
        "id": "uCD9gnfh1R7d",
        "outputId": "b46ab128-e351-47a6-f773-7180695f3dc6"
      },
      "source": [
        "%%time\n",
        "score = model.evaluate(x_test, y_test, batch_size=BATCH_SIZE)\n",
        "print()\n",
        "print(\"ACCURACY:\",score[1])\n",
        "print(\"LOSS:\",score[0])"
      ],
      "execution_count": null,
      "outputs": [
        {
          "output_type": "stream",
          "text": [
            "14/14 [==============================] - 36s 3s/step - loss: 0.4361 - accuracy: 0.7847\n",
            "\n",
            "ACCURACY: 0.7847142815589905\n",
            "LOSS: 0.4361344873905182\n",
            "CPU times: user 1min 5s, sys: 3.79 s, total: 1min 9s\n",
            "Wall time: 36.2 s\n"
          ],
          "name": "stdout"
        }
      ]
    },
    {
      "cell_type": "code",
      "metadata": {
        "id": "8MYO5_EeFuQj"
      },
      "source": [
        "def decode_sentiment(score, include_neutral=True):\n",
        "    if include_neutral:        \n",
        "        label = NEUTRAL\n",
        "        if score <= SENTIMENT_THRESHOLDS[0]:\n",
        "            label = NEGATIVE\n",
        "        elif score >= SENTIMENT_THRESHOLDS[1]:\n",
        "            label = POSITIVE\n",
        "\n",
        "        return label\n",
        "    else:\n",
        "        return NEGATIVE if score < 0.5 else POSITIVE"
      ],
      "execution_count": null,
      "outputs": []
    },
    {
      "cell_type": "code",
      "metadata": {
        "id": "-rFSNIg9F34E"
      },
      "source": [
        "def predict(text, include_neutral=True):\n",
        "    start_at = time.time()\n",
        "    # Tokenize text\n",
        "    x_test = pad_sequences(tokenizer.texts_to_sequences([text]), maxlen=SEQUENCE_LENGTH)\n",
        "    # Predict\n",
        "    score = model.predict([x_test])[0]\n",
        "    # Decode sentiment\n",
        "    label = decode_sentiment(score, include_neutral=include_neutral)\n",
        "\n",
        "    return {\"label\": label, \"score\": float(score),\n",
        "       \"elapsed_time\": time.time()-start_at}  "
      ],
      "execution_count": null,
      "outputs": []
    },
    {
      "cell_type": "code",
      "metadata": {
        "colab": {
          "base_uri": "https://localhost:8080/"
        },
        "id": "PViRWXujF_f5",
        "outputId": "56aab74a-0c23-4750-afac-665d41abdced"
      },
      "source": [
        "predict(\"ya chesmek  \",False)"
      ],
      "execution_count": null,
      "outputs": [
        {
          "output_type": "execute_result",
          "data": {
            "text/plain": [
              "{'elapsed_time': 0.09382295608520508,\n",
              " 'label': '1',\n",
              " 'score': 0.6012781262397766}"
            ]
          },
          "metadata": {
            "tags": []
          },
          "execution_count": 115
        }
      ]
    },
    {
      "cell_type": "code",
      "metadata": {
        "id": "vYtTxnMaGA_c"
      },
      "source": [
        "x_test = pd.read_csv('Test.csv')"
      ],
      "execution_count": null,
      "outputs": []
    },
    {
      "cell_type": "code",
      "metadata": {
        "colab": {
          "base_uri": "https://localhost:8080/",
          "height": 206
        },
        "id": "uxlwGBamHEV4",
        "outputId": "612cc873-0b78-4e53-e8ab-2845d787709f"
      },
      "source": [
        "x_test.head()"
      ],
      "execution_count": null,
      "outputs": [
        {
          "output_type": "execute_result",
          "data": {
            "text/html": [
              "<div>\n",
              "<style scoped>\n",
              "    .dataframe tbody tr th:only-of-type {\n",
              "        vertical-align: middle;\n",
              "    }\n",
              "\n",
              "    .dataframe tbody tr th {\n",
              "        vertical-align: top;\n",
              "    }\n",
              "\n",
              "    .dataframe thead th {\n",
              "        text-align: right;\n",
              "    }\n",
              "</style>\n",
              "<table border=\"1\" class=\"dataframe\">\n",
              "  <thead>\n",
              "    <tr style=\"text-align: right;\">\n",
              "      <th></th>\n",
              "      <th>ID</th>\n",
              "      <th>text</th>\n",
              "    </tr>\n",
              "  </thead>\n",
              "  <tbody>\n",
              "    <tr>\n",
              "      <th>0</th>\n",
              "      <td>2DDHQW9</td>\n",
              "      <td>barcha aaindou fiha hak w barcha teflim kadhalik</td>\n",
              "    </tr>\n",
              "    <tr>\n",
              "      <th>1</th>\n",
              "      <td>5HY6UEY</td>\n",
              "      <td>ye gernabou ye 9a7ba</td>\n",
              "    </tr>\n",
              "    <tr>\n",
              "      <th>2</th>\n",
              "      <td>ATNVUJX</td>\n",
              "      <td>saber w barra rabbi m3ak 5ouya</td>\n",
              "    </tr>\n",
              "    <tr>\n",
              "      <th>3</th>\n",
              "      <td>Q9XYVOQ</td>\n",
              "      <td>cha3ébbb ta7aaaaannnnnnnnnnn tfouuhh</td>\n",
              "    </tr>\n",
              "    <tr>\n",
              "      <th>4</th>\n",
              "      <td>TOAHLRH</td>\n",
              "      <td>rabi y5alihoulek w yfar7ek bih w inchallah itc...</td>\n",
              "    </tr>\n",
              "  </tbody>\n",
              "</table>\n",
              "</div>"
            ],
            "text/plain": [
              "        ID                                               text\n",
              "0  2DDHQW9   barcha aaindou fiha hak w barcha teflim kadhalik\n",
              "1  5HY6UEY                               ye gernabou ye 9a7ba\n",
              "2  ATNVUJX                     saber w barra rabbi m3ak 5ouya\n",
              "3  Q9XYVOQ               cha3ébbb ta7aaaaannnnnnnnnnn tfouuhh\n",
              "4  TOAHLRH  rabi y5alihoulek w yfar7ek bih w inchallah itc..."
            ]
          },
          "metadata": {
            "tags": []
          },
          "execution_count": 119
        }
      ]
    },
    {
      "cell_type": "code",
      "metadata": {
        "colab": {
          "base_uri": "https://localhost:8080/"
        },
        "id": "r_FrNBroHqhz",
        "outputId": "470817c4-9860-40f8-dce4-3223f053bf03"
      },
      "source": [
        "predict(x_test.text[1],False)"
      ],
      "execution_count": null,
      "outputs": [
        {
          "output_type": "execute_result",
          "data": {
            "text/plain": [
              "{'elapsed_time': 0.0994102954864502,\n",
              " 'label': '-1',\n",
              " 'score': 0.035405516624450684}"
            ]
          },
          "metadata": {
            "tags": []
          },
          "execution_count": 120
        }
      ]
    },
    {
      "cell_type": "code",
      "metadata": {
        "id": "XbwWHmhlHyKt"
      },
      "source": [
        "predictions = x_test.ID\n",
        "values = x_test.text\n"
      ],
      "execution_count": null,
      "outputs": []
    },
    {
      "cell_type": "code",
      "metadata": {
        "id": "wcNwwNigJDfq"
      },
      "source": [
        "x=  pad_sequences(tokenizer.texts_to_sequences(x_test.text), maxlen=SEQUENCE_LENGTH)"
      ],
      "execution_count": null,
      "outputs": []
    },
    {
      "cell_type": "code",
      "metadata": {
        "id": "Oe4NGxyVJErn"
      },
      "source": [
        "y=model.predict(x)"
      ],
      "execution_count": null,
      "outputs": []
    },
    {
      "cell_type": "code",
      "metadata": {
        "colab": {
          "base_uri": "https://localhost:8080/"
        },
        "id": "fUpFSU61RZdd",
        "outputId": "74eebf86-e8b9-40e1-8d9c-212e3b4572d0"
      },
      "source": [
        "y"
      ],
      "execution_count": null,
      "outputs": [
        {
          "output_type": "execute_result",
          "data": {
            "text/plain": [
              "array([[0.37535396],\n",
              "       [0.03540552],\n",
              "       [0.98259854],\n",
              "       ...,\n",
              "       [0.8998578 ],\n",
              "       [0.04730976],\n",
              "       [0.86598563]], dtype=float32)"
            ]
          },
          "metadata": {
            "tags": []
          },
          "execution_count": 131
        }
      ]
    },
    {
      "cell_type": "code",
      "metadata": {
        "id": "IEi5eHQ7R0sL",
        "colab": {
          "base_uri": "https://localhost:8080/"
        },
        "outputId": "c8e0e33c-5aee-41fd-ba91-98dddb922299"
      },
      "source": [
        "predictions = x_test.ID\n",
        "i=0\n",
        "l=[]\n",
        "for v in y:\n",
        "  if v<0.5:\n",
        "    l.append(\"-1\")\n",
        "  else:\n",
        "    l.append(\"1\")\n",
        "  i+=1 ;\n",
        "predictions = predictions +','+ l"
      ],
      "execution_count": null,
      "outputs": [
        {
          "output_type": "stream",
          "text": [
            "2021-03-03 15:22:38,532 : INFO : NumExpr defaulting to 2 threads.\n"
          ],
          "name": "stderr"
        }
      ]
    },
    {
      "cell_type": "code",
      "metadata": {
        "colab": {
          "base_uri": "https://localhost:8080/"
        },
        "id": "K85rVbSFSVcU",
        "outputId": "81adf46b-9dd4-4724-dfd4-cf536b5f5aa5"
      },
      "source": [
        "predictions"
      ],
      "execution_count": null,
      "outputs": [
        {
          "output_type": "execute_result",
          "data": {
            "text/plain": [
              "0        2DDHQW9,-1\n",
              "1        5HY6UEY,-1\n",
              "2         ATNVUJX,1\n",
              "3         Q9XYVOQ,1\n",
              "4         TOAHLRH,1\n",
              "            ...    \n",
              "29995    NHXTL3R,-1\n",
              "29996     U1YWB2O,1\n",
              "29997     O3KYLM0,1\n",
              "29998    W4C38TY,-1\n",
              "29999     4NNX5QE,1\n",
              "Name: ID, Length: 30000, dtype: object"
            ]
          },
          "metadata": {
            "tags": []
          },
          "execution_count": 147
        }
      ]
    },
    {
      "cell_type": "code",
      "metadata": {
        "id": "R9-pSmFUTJhG"
      },
      "source": [
        "predictions.to_csv(\"subs.csv\", index=False)"
      ],
      "execution_count": null,
      "outputs": []
    },
    {
      "cell_type": "code",
      "metadata": {
        "id": "7bjoPJljUmJ1"
      },
      "source": [
        "x_test['label']=y"
      ],
      "execution_count": null,
      "outputs": []
    },
    {
      "cell_type": "code",
      "metadata": {
        "colab": {
          "base_uri": "https://localhost:8080/",
          "height": 424
        },
        "id": "NKLeTswcaQB1",
        "outputId": "f661889d-d504-4386-afe0-aa3800234071"
      },
      "source": [
        "x_test"
      ],
      "execution_count": null,
      "outputs": [
        {
          "output_type": "execute_result",
          "data": {
            "text/html": [
              "<div>\n",
              "<style scoped>\n",
              "    .dataframe tbody tr th:only-of-type {\n",
              "        vertical-align: middle;\n",
              "    }\n",
              "\n",
              "    .dataframe tbody tr th {\n",
              "        vertical-align: top;\n",
              "    }\n",
              "\n",
              "    .dataframe thead th {\n",
              "        text-align: right;\n",
              "    }\n",
              "</style>\n",
              "<table border=\"1\" class=\"dataframe\">\n",
              "  <thead>\n",
              "    <tr style=\"text-align: right;\">\n",
              "      <th></th>\n",
              "      <th>ID</th>\n",
              "      <th>text</th>\n",
              "      <th>label</th>\n",
              "    </tr>\n",
              "  </thead>\n",
              "  <tbody>\n",
              "    <tr>\n",
              "      <th>0</th>\n",
              "      <td>2DDHQW9</td>\n",
              "      <td>barcha aaindou fiha hak w barcha teflim kadhalik</td>\n",
              "      <td>0.375354</td>\n",
              "    </tr>\n",
              "    <tr>\n",
              "      <th>1</th>\n",
              "      <td>5HY6UEY</td>\n",
              "      <td>ye gernabou ye 9a7ba</td>\n",
              "      <td>0.035406</td>\n",
              "    </tr>\n",
              "    <tr>\n",
              "      <th>2</th>\n",
              "      <td>ATNVUJX</td>\n",
              "      <td>saber w barra rabbi m3ak 5ouya</td>\n",
              "      <td>0.982599</td>\n",
              "    </tr>\n",
              "    <tr>\n",
              "      <th>3</th>\n",
              "      <td>Q9XYVOQ</td>\n",
              "      <td>cha3ébbb ta7aaaaannnnnnnnnnn tfouuhh</td>\n",
              "      <td>0.545579</td>\n",
              "    </tr>\n",
              "    <tr>\n",
              "      <th>4</th>\n",
              "      <td>TOAHLRH</td>\n",
              "      <td>rabi y5alihoulek w yfar7ek bih w inchallah itc...</td>\n",
              "      <td>0.924532</td>\n",
              "    </tr>\n",
              "    <tr>\n",
              "      <th>...</th>\n",
              "      <td>...</td>\n",
              "      <td>...</td>\n",
              "      <td>...</td>\n",
              "    </tr>\n",
              "    <tr>\n",
              "      <th>29995</th>\n",
              "      <td>NHXTL3R</td>\n",
              "      <td>me ihebekch raw</td>\n",
              "      <td>0.498555</td>\n",
              "    </tr>\n",
              "    <tr>\n",
              "      <th>29996</th>\n",
              "      <td>U1YWB2O</td>\n",
              "      <td>nchallah rabi m3ak w iwaf9ek mais just 7abit n...</td>\n",
              "      <td>0.991667</td>\n",
              "    </tr>\n",
              "    <tr>\n",
              "      <th>29997</th>\n",
              "      <td>O3KYLM0</td>\n",
              "      <td>slim rabi m3ak w e5edem w 5alli l7ossed lemnay...</td>\n",
              "      <td>0.899858</td>\n",
              "    </tr>\n",
              "    <tr>\n",
              "      <th>29998</th>\n",
              "      <td>W4C38TY</td>\n",
              "      <td>bara 5alis rouhik yizi mitbal3it jam3iya hlaki...</td>\n",
              "      <td>0.047310</td>\n",
              "    </tr>\n",
              "    <tr>\n",
              "      <th>29999</th>\n",
              "      <td>4NNX5QE</td>\n",
              "      <td>rabi m3aaaak ya khawlaaa n7ebouuuuk rana barsh...</td>\n",
              "      <td>0.865986</td>\n",
              "    </tr>\n",
              "  </tbody>\n",
              "</table>\n",
              "<p>30000 rows × 3 columns</p>\n",
              "</div>"
            ],
            "text/plain": [
              "            ID                                               text     label\n",
              "0      2DDHQW9   barcha aaindou fiha hak w barcha teflim kadhalik  0.375354\n",
              "1      5HY6UEY                               ye gernabou ye 9a7ba  0.035406\n",
              "2      ATNVUJX                     saber w barra rabbi m3ak 5ouya  0.982599\n",
              "3      Q9XYVOQ               cha3ébbb ta7aaaaannnnnnnnnnn tfouuhh  0.545579\n",
              "4      TOAHLRH  rabi y5alihoulek w yfar7ek bih w inchallah itc...  0.924532\n",
              "...        ...                                                ...       ...\n",
              "29995  NHXTL3R                                    me ihebekch raw  0.498555\n",
              "29996  U1YWB2O  nchallah rabi m3ak w iwaf9ek mais just 7abit n...  0.991667\n",
              "29997  O3KYLM0  slim rabi m3ak w e5edem w 5alli l7ossed lemnay...  0.899858\n",
              "29998  W4C38TY  bara 5alis rouhik yizi mitbal3it jam3iya hlaki...  0.047310\n",
              "29999  4NNX5QE  rabi m3aaaak ya khawlaaa n7ebouuuuk rana barsh...  0.865986\n",
              "\n",
              "[30000 rows x 3 columns]"
            ]
          },
          "metadata": {
            "tags": []
          },
          "execution_count": 149
        }
      ]
    },
    {
      "cell_type": "code",
      "metadata": {
        "id": "RSyTebCaaRKt"
      },
      "source": [
        "def classy(x):\n",
        "  if x>= 0.6 :\n",
        "    return \"1\"\n",
        "  else:\n",
        "    return \"-1\"\n",
        "\n",
        "\n",
        "x_test[\"label\"]= x_test[\"label\"].apply(lambda x:  classy(x))"
      ],
      "execution_count": null,
      "outputs": []
    },
    {
      "cell_type": "markdown",
      "metadata": {
        "id": "-le3F4bHclFV"
      },
      "source": [
        ""
      ]
    },
    {
      "cell_type": "code",
      "metadata": {
        "colab": {
          "base_uri": "https://localhost:8080/",
          "height": 424
        },
        "id": "pNtuvZ7bbFtc",
        "outputId": "b78d7f2a-7350-462c-b3cf-eb9951aac286"
      },
      "source": [
        "x_test"
      ],
      "execution_count": null,
      "outputs": [
        {
          "output_type": "execute_result",
          "data": {
            "text/html": [
              "<div>\n",
              "<style scoped>\n",
              "    .dataframe tbody tr th:only-of-type {\n",
              "        vertical-align: middle;\n",
              "    }\n",
              "\n",
              "    .dataframe tbody tr th {\n",
              "        vertical-align: top;\n",
              "    }\n",
              "\n",
              "    .dataframe thead th {\n",
              "        text-align: right;\n",
              "    }\n",
              "</style>\n",
              "<table border=\"1\" class=\"dataframe\">\n",
              "  <thead>\n",
              "    <tr style=\"text-align: right;\">\n",
              "      <th></th>\n",
              "      <th>ID</th>\n",
              "      <th>text</th>\n",
              "      <th>label</th>\n",
              "    </tr>\n",
              "  </thead>\n",
              "  <tbody>\n",
              "    <tr>\n",
              "      <th>0</th>\n",
              "      <td>2DDHQW9</td>\n",
              "      <td>barcha aaindou fiha hak w barcha teflim kadhalik</td>\n",
              "      <td>1</td>\n",
              "    </tr>\n",
              "    <tr>\n",
              "      <th>1</th>\n",
              "      <td>5HY6UEY</td>\n",
              "      <td>ye gernabou ye 9a7ba</td>\n",
              "      <td>-1</td>\n",
              "    </tr>\n",
              "    <tr>\n",
              "      <th>2</th>\n",
              "      <td>ATNVUJX</td>\n",
              "      <td>saber w barra rabbi m3ak 5ouya</td>\n",
              "      <td>1</td>\n",
              "    </tr>\n",
              "    <tr>\n",
              "      <th>3</th>\n",
              "      <td>Q9XYVOQ</td>\n",
              "      <td>cha3ébbb ta7aaaaannnnnnnnnnn tfouuhh</td>\n",
              "      <td>1</td>\n",
              "    </tr>\n",
              "    <tr>\n",
              "      <th>4</th>\n",
              "      <td>TOAHLRH</td>\n",
              "      <td>rabi y5alihoulek w yfar7ek bih w inchallah itc...</td>\n",
              "      <td>1</td>\n",
              "    </tr>\n",
              "    <tr>\n",
              "      <th>...</th>\n",
              "      <td>...</td>\n",
              "      <td>...</td>\n",
              "      <td>...</td>\n",
              "    </tr>\n",
              "    <tr>\n",
              "      <th>29995</th>\n",
              "      <td>NHXTL3R</td>\n",
              "      <td>me ihebekch raw</td>\n",
              "      <td>1</td>\n",
              "    </tr>\n",
              "    <tr>\n",
              "      <th>29996</th>\n",
              "      <td>U1YWB2O</td>\n",
              "      <td>nchallah rabi m3ak w iwaf9ek mais just 7abit n...</td>\n",
              "      <td>1</td>\n",
              "    </tr>\n",
              "    <tr>\n",
              "      <th>29997</th>\n",
              "      <td>O3KYLM0</td>\n",
              "      <td>slim rabi m3ak w e5edem w 5alli l7ossed lemnay...</td>\n",
              "      <td>1</td>\n",
              "    </tr>\n",
              "    <tr>\n",
              "      <th>29998</th>\n",
              "      <td>W4C38TY</td>\n",
              "      <td>bara 5alis rouhik yizi mitbal3it jam3iya hlaki...</td>\n",
              "      <td>-1</td>\n",
              "    </tr>\n",
              "    <tr>\n",
              "      <th>29999</th>\n",
              "      <td>4NNX5QE</td>\n",
              "      <td>rabi m3aaaak ya khawlaaa n7ebouuuuk rana barsh...</td>\n",
              "      <td>1</td>\n",
              "    </tr>\n",
              "  </tbody>\n",
              "</table>\n",
              "<p>30000 rows × 3 columns</p>\n",
              "</div>"
            ],
            "text/plain": [
              "            ID                                               text label\n",
              "0      2DDHQW9   barcha aaindou fiha hak w barcha teflim kadhalik     1\n",
              "1      5HY6UEY                               ye gernabou ye 9a7ba    -1\n",
              "2      ATNVUJX                     saber w barra rabbi m3ak 5ouya     1\n",
              "3      Q9XYVOQ               cha3ébbb ta7aaaaannnnnnnnnnn tfouuhh     1\n",
              "4      TOAHLRH  rabi y5alihoulek w yfar7ek bih w inchallah itc...     1\n",
              "...        ...                                                ...   ...\n",
              "29995  NHXTL3R                                    me ihebekch raw     1\n",
              "29996  U1YWB2O  nchallah rabi m3ak w iwaf9ek mais just 7abit n...     1\n",
              "29997  O3KYLM0  slim rabi m3ak w e5edem w 5alli l7ossed lemnay...     1\n",
              "29998  W4C38TY  bara 5alis rouhik yizi mitbal3it jam3iya hlaki...    -1\n",
              "29999  4NNX5QE  rabi m3aaaak ya khawlaaa n7ebouuuuk rana barsh...     1\n",
              "\n",
              "[30000 rows x 3 columns]"
            ]
          },
          "metadata": {
            "tags": []
          },
          "execution_count": 143
        }
      ]
    },
    {
      "cell_type": "code",
      "metadata": {
        "id": "FMULu0V9bbyu"
      },
      "source": [
        "submit = x_test[[\"ID\",\"label\"]]\n",
        "submit.to_csv(\"submissionFinal.csv\", index=False)"
      ],
      "execution_count": null,
      "outputs": []
    },
    {
      "cell_type": "code",
      "metadata": {
        "id": "Y2kPCKUhcmt3"
      },
      "source": [
        ""
      ],
      "execution_count": null,
      "outputs": []
    },
    {
      "cell_type": "code",
      "metadata": {
        "colab": {
          "base_uri": "https://localhost:8080/"
        },
        "id": "RwORCtnrbpDK",
        "outputId": "0e9d509a-685d-4802-b669-da8b96ab2d6b"
      },
      "source": [
        ""
      ],
      "execution_count": null,
      "outputs": [
        {
          "output_type": "execute_result",
          "data": {
            "text/plain": [
              "['إذ',\n",
              " 'إذا',\n",
              " 'إذما',\n",
              " 'إذن',\n",
              " 'أف',\n",
              " 'أقل',\n",
              " 'أكثر',\n",
              " 'ألا',\n",
              " 'إلا',\n",
              " 'التي',\n",
              " 'الذي',\n",
              " 'الذين',\n",
              " 'اللاتي',\n",
              " 'اللائي',\n",
              " 'اللتان',\n",
              " 'اللتيا',\n",
              " 'اللتين',\n",
              " 'اللذان',\n",
              " 'اللذين',\n",
              " 'اللواتي',\n",
              " 'إلى',\n",
              " 'إليك',\n",
              " 'إليكم',\n",
              " 'إليكما',\n",
              " 'إليكن',\n",
              " 'أم',\n",
              " 'أما',\n",
              " 'أما',\n",
              " 'إما',\n",
              " 'أن',\n",
              " 'إن',\n",
              " 'إنا',\n",
              " 'أنا',\n",
              " 'أنت',\n",
              " 'أنتم',\n",
              " 'أنتما',\n",
              " 'أنتن',\n",
              " 'إنما',\n",
              " 'إنه',\n",
              " 'أنى',\n",
              " 'أنى',\n",
              " 'آه',\n",
              " 'آها',\n",
              " 'أو',\n",
              " 'أولاء',\n",
              " 'أولئك',\n",
              " 'أوه',\n",
              " 'آي',\n",
              " 'أي',\n",
              " 'أيها',\n",
              " 'إي',\n",
              " 'أين',\n",
              " 'أين',\n",
              " 'أينما',\n",
              " 'إيه',\n",
              " 'بخ',\n",
              " 'بس',\n",
              " 'بعد',\n",
              " 'بعض',\n",
              " 'بك',\n",
              " 'بكم',\n",
              " 'بكم',\n",
              " 'بكما',\n",
              " 'بكن',\n",
              " 'بل',\n",
              " 'بلى',\n",
              " 'بما',\n",
              " 'بماذا',\n",
              " 'بمن',\n",
              " 'بنا',\n",
              " 'به',\n",
              " 'بها',\n",
              " 'بهم',\n",
              " 'بهما',\n",
              " 'بهن',\n",
              " 'بي',\n",
              " 'بين',\n",
              " 'بيد',\n",
              " 'تلك',\n",
              " 'تلكم',\n",
              " 'تلكما',\n",
              " 'ته',\n",
              " 'تي',\n",
              " 'تين',\n",
              " 'تينك',\n",
              " 'ثم',\n",
              " 'ثمة',\n",
              " 'حاشا',\n",
              " 'حبذا',\n",
              " 'حتى',\n",
              " 'حيث',\n",
              " 'حيثما',\n",
              " 'حين',\n",
              " 'خلا',\n",
              " 'دون',\n",
              " 'ذا',\n",
              " 'ذات',\n",
              " 'ذاك',\n",
              " 'ذان',\n",
              " 'ذانك',\n",
              " 'ذلك',\n",
              " 'ذلكم',\n",
              " 'ذلكما',\n",
              " 'ذلكن',\n",
              " 'ذه',\n",
              " 'ذو',\n",
              " 'ذوا',\n",
              " 'ذواتا',\n",
              " 'ذواتي',\n",
              " 'ذي',\n",
              " 'ذين',\n",
              " 'ذينك',\n",
              " 'ريث',\n",
              " 'سوف',\n",
              " 'سوى',\n",
              " 'شتان',\n",
              " 'عدا',\n",
              " 'عسى',\n",
              " 'عل',\n",
              " 'على',\n",
              " 'عليك',\n",
              " 'عليه',\n",
              " 'عما',\n",
              " 'عن',\n",
              " 'عند',\n",
              " 'غير',\n",
              " 'فإذا',\n",
              " 'فإن',\n",
              " 'فلا',\n",
              " 'فمن',\n",
              " 'في',\n",
              " 'فيم',\n",
              " 'فيما',\n",
              " 'فيه',\n",
              " 'فيها',\n",
              " 'قد',\n",
              " 'كأن',\n",
              " 'كأنما',\n",
              " 'كأي',\n",
              " 'كأين',\n",
              " 'كذا',\n",
              " 'كذلك',\n",
              " 'كل',\n",
              " 'كلا',\n",
              " 'كلاهما',\n",
              " 'كلتا',\n",
              " 'كلما',\n",
              " 'كليكما',\n",
              " 'كليهما',\n",
              " 'كم',\n",
              " 'كم',\n",
              " 'كما',\n",
              " 'كي',\n",
              " 'كيت',\n",
              " 'كيف',\n",
              " 'كيفما',\n",
              " 'لا',\n",
              " 'لاسيما',\n",
              " 'لدى',\n",
              " 'لست',\n",
              " 'لستم',\n",
              " 'لستما',\n",
              " 'لستن',\n",
              " 'لسن',\n",
              " 'لسنا',\n",
              " 'لعل',\n",
              " 'لك',\n",
              " 'لكم',\n",
              " 'لكما',\n",
              " 'لكن',\n",
              " 'لكنما',\n",
              " 'لكي',\n",
              " 'لكيلا',\n",
              " 'لم',\n",
              " 'لما',\n",
              " 'لن',\n",
              " 'لنا',\n",
              " 'له',\n",
              " 'لها',\n",
              " 'لهم',\n",
              " 'لهما',\n",
              " 'لهن',\n",
              " 'لو',\n",
              " 'لولا',\n",
              " 'لوما',\n",
              " 'لي',\n",
              " 'لئن',\n",
              " 'ليت',\n",
              " 'ليس',\n",
              " 'ليسا',\n",
              " 'ليست',\n",
              " 'ليستا',\n",
              " 'ليسوا',\n",
              " 'ما',\n",
              " 'ماذا',\n",
              " 'متى',\n",
              " 'مذ',\n",
              " 'مع',\n",
              " 'مما',\n",
              " 'ممن',\n",
              " 'من',\n",
              " 'منه',\n",
              " 'منها',\n",
              " 'منذ',\n",
              " 'مه',\n",
              " 'مهما',\n",
              " 'نحن',\n",
              " 'نحو',\n",
              " 'نعم',\n",
              " 'ها',\n",
              " 'هاتان',\n",
              " 'هاته',\n",
              " 'هاتي',\n",
              " 'هاتين',\n",
              " 'هاك',\n",
              " 'هاهنا',\n",
              " 'هذا',\n",
              " 'هذان',\n",
              " 'هذه',\n",
              " 'هذي',\n",
              " 'هذين',\n",
              " 'هكذا',\n",
              " 'هل',\n",
              " 'هلا',\n",
              " 'هم',\n",
              " 'هما',\n",
              " 'هن',\n",
              " 'هنا',\n",
              " 'هناك',\n",
              " 'هنالك',\n",
              " 'هو',\n",
              " 'هؤلاء',\n",
              " 'هي',\n",
              " 'هيا',\n",
              " 'هيت',\n",
              " 'هيهات',\n",
              " 'والذي',\n",
              " 'والذين',\n",
              " 'وإذ',\n",
              " 'وإذا',\n",
              " 'وإن',\n",
              " 'ولا',\n",
              " 'ولكن',\n",
              " 'ولو',\n",
              " 'وما',\n",
              " 'ومن',\n",
              " 'وهو',\n",
              " 'يا']"
            ]
          },
          "metadata": {
            "tags": []
          },
          "execution_count": 214
        }
      ]
    },
    {
      "cell_type": "code",
      "metadata": {
        "id": "9jfxIG2meSl3"
      },
      "source": [
        ""
      ],
      "execution_count": null,
      "outputs": []
    }
  ]
}